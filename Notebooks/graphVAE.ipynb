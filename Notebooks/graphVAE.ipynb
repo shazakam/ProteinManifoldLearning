{
 "cells": [
  {
   "cell_type": "code",
   "execution_count": 144,
   "metadata": {},
   "outputs": [
    {
     "name": "stdout",
     "output_type": "stream",
     "text": [
      "The autoreload extension is already loaded. To reload it, use:\n",
      "  %reload_ext autoreload\n"
     ]
    }
   ],
   "source": [
    "import torch\n",
    "import numpy as np\n",
    "import torch.nn as nn\n",
    "import sys\n",
    "import os\n",
    "project_root = os.path.abspath(\"..\")  # Adjust if needed\n",
    "import pytorch_lightning as pl\n",
    "# Add the project root to sys.path\n",
    "if project_root not in sys.path:\n",
    "    sys.path.append(project_root)\n",
    "\n",
    "from src.models.pointNetVae import PointNetVAE\n",
    "from src.utils.data_utils import *\n",
    "from src.dataset_classes.pointDataset import *\n",
    "from proteinshake.datasets import ProteinFamilyDataset\n",
    "from proteinshake.tasks import LigandAffinityTask\n",
    "import random\n",
    "from torch.utils.data import DataLoader, Dataset, Subset\n",
    "from src.utils.data_utils import *\n",
    "%load_ext autoreload\n",
    "%autoreload 2"
   ]
  },
  {
   "cell_type": "code",
   "execution_count": 207,
   "metadata": {},
   "outputs": [],
   "source": [
    "dataset = ProteinFamilyDataset(root='../data').to_graph(eps = 8).pyg()\n",
    "point_d = ProteinFamilyDataset(root='../data').to_point().torch()\n",
    "dataset = [data[0] for data in dataset if len(data[1]['protein']['sequence']) < 500]"
   ]
  },
  {
   "cell_type": "code",
   "execution_count": 199,
   "metadata": {},
   "outputs": [
    {
     "data": {
      "text/plain": [
       "torch.Size([277])"
      ]
     },
     "execution_count": 199,
     "metadata": {},
     "output_type": "execute_result"
    }
   ],
   "source": [
    "dataset[0][0].x.shape"
   ]
  },
  {
   "cell_type": "code",
   "execution_count": 156,
   "metadata": {},
   "outputs": [],
   "source": [
    "for data in dataset:\n",
    "    data.x = torch.nn.functional.one_hot(data.x, num_classes=21).float()"
   ]
  },
  {
   "cell_type": "code",
   "execution_count": null,
   "metadata": {},
   "outputs": [
    {
     "data": {
      "text/plain": [
       "torch.Size([500])"
      ]
     },
     "execution_count": 169,
     "metadata": {},
     "output_type": "execute_result"
    }
   ],
   "source": [
    "torch.nn.functional.pad(dataset[0].x.argmax(dim=-1), (0,500 - dataset[0].x.argmax(dim=-1).shape[0]), value=21).shape"
   ]
  },
  {
   "cell_type": "code",
   "execution_count": 148,
   "metadata": {},
   "outputs": [
    {
     "data": {
      "text/plain": [
       "torch.Size([500, 21])"
      ]
     },
     "execution_count": 148,
     "metadata": {},
     "output_type": "execute_result"
    }
   ],
   "source": [
    "one_hot_encode_seq(dataset[0][1]['protein']['sequence'], 500).shape"
   ]
  },
  {
   "cell_type": "code",
   "execution_count": 151,
   "metadata": {},
   "outputs": [
    {
     "data": {
      "text/plain": [
       "tensor([[0, 0, 1,  ..., 0, 0, 0],\n",
       "        [0, 0, 0,  ..., 0, 0, 0],\n",
       "        [0, 0, 0,  ..., 1, 0, 0],\n",
       "        ...,\n",
       "        [0, 0, 0,  ..., 0, 0, 0],\n",
       "        [0, 0, 0,  ..., 0, 0, 0],\n",
       "        [0, 0, 0,  ..., 0, 0, 0]])"
      ]
     },
     "execution_count": 151,
     "metadata": {},
     "output_type": "execute_result"
    }
   ],
   "source": [
    "torch.nn.functional.one_hot(dataset[0][0].x, 21)"
   ]
  },
  {
   "cell_type": "code",
   "execution_count": 208,
   "metadata": {},
   "outputs": [],
   "source": [
    "from torch_geometric.loader import DataLoader\n",
    "from torch_geometric.nn import InnerProductDecoder\n",
    "\n",
    "# dataset = [...]  # List of torch_geometric.data.Data objects (one per graph)\n",
    "batch_size = 16\n",
    "loader = DataLoader(dataset, batch_size=batch_size, shuffle=True)\n",
    "test_batch = next(iter(loader))"
   ]
  },
  {
   "cell_type": "code",
   "execution_count": 232,
   "metadata": {},
   "outputs": [],
   "source": [
    "# test_batch\n",
    "\n",
    "indices_with_mask_val = []\n",
    "for i in range(batch_size):\n",
    "    x_true_indices = test_batch.x[torch.where(test_batch.batch == i)[0]]\n",
    "    x_true_indices = torch.nn.functional.pad(x_true_indices, (0,500 - x_true_indices.shape[0]), value=21)\n",
    "    indices_with_mask_val.append(x_true_indices)"
   ]
  },
  {
   "cell_type": "code",
   "execution_count": 233,
   "metadata": {},
   "outputs": [],
   "source": [
    "indices_with_mask_val = torch.stack(indices_with_mask_val)"
   ]
  },
  {
   "cell_type": "code",
   "execution_count": 237,
   "metadata": {},
   "outputs": [
    {
     "data": {
      "text/plain": [
       "tensor(15)"
      ]
     },
     "execution_count": 237,
     "metadata": {},
     "output_type": "execute_result"
    }
   ],
   "source": [
    "test_batch.batch[-1]"
   ]
  },
  {
   "cell_type": "code",
   "execution_count": 132,
   "metadata": {},
   "outputs": [
    {
     "data": {
      "text/plain": [
       "torch.Size([2, 1562])"
      ]
     },
     "execution_count": 132,
     "metadata": {},
     "output_type": "execute_result"
    }
   ],
   "source": [
    "test_batch[0].edge_index.shape"
   ]
  },
  {
   "cell_type": "code",
   "execution_count": 136,
   "metadata": {},
   "outputs": [
    {
     "data": {
      "text/plain": [
       "tensor([[   0,    0,    0,  ...,    1,    1,    1],\n",
       "        [   6,    7,    8,  ..., 1559, 1560, 1561]])"
      ]
     },
     "execution_count": 136,
     "metadata": {},
     "output_type": "execute_result"
    }
   ],
   "source": [
    "dense_to_sparse(test_batch[0].edge_index)[0]"
   ]
  },
  {
   "cell_type": "code",
   "execution_count": 123,
   "metadata": {},
   "outputs": [
    {
     "data": {
      "text/plain": [
       "tensor([0.6120, 0.6623, 0.9430,  ..., 0.3138, 0.4440, 0.7019])"
      ]
     },
     "execution_count": 123,
     "metadata": {},
     "output_type": "execute_result"
    }
   ],
   "source": [
    "dec(testIn[0], test_batch.edge_index)"
   ]
  },
  {
   "cell_type": "code",
   "execution_count": 7,
   "metadata": {},
   "outputs": [
    {
     "data": {
      "text/plain": [
       "tensor([[   0,    0,    0,  ..., 4215, 4216, 4216],\n",
       "        [   1,    2,   30,  ..., 4212, 4215, 4214]])"
      ]
     },
     "execution_count": 7,
     "metadata": {},
     "output_type": "execute_result"
    }
   ],
   "source": [
    "test_batch.edge_index"
   ]
  },
  {
   "cell_type": "code",
   "execution_count": 8,
   "metadata": {},
   "outputs": [],
   "source": [
    "from torch_geometric.nn import GCNConv, dense_diff_pool, global_mean_pool, TopKPooling\n",
    "hidden_dim = 32\n",
    "latent_dim = 2\n",
    "class encoder(nn.Module):\n",
    "    def __init__(self):\n",
    "        super().__init__()\n",
    "        self.conv1 = GCNConv(1, hidden_dim, cached=True) # cached only for transductive learning\n",
    "        self.conv2 = GCNConv(hidden_dim ,2*hidden_dim)\n",
    "\n",
    "        self.fc_mu = nn.Linear(2*hidden_dim, latent_dim)\n",
    "        self.fc_logvar = nn.Linear(2*hidden_dim, latent_dim)\n",
    "        \n",
    "\n",
    "    def forward(self,x):\n",
    "        x_f, x_edg, x_batch = x.x.unsqueeze(-1).float(), x.edge_index, x.batch\n",
    "        x_f = self.conv1(x_f, x_edg)\n",
    "\n",
    "        x_f = self.conv2(x_f, x_edg)\n",
    "        pooled_x = global_mean_pool(x_f, x_batch)\n",
    "        mu = self.fc_mu(pooled_x)\n",
    "        logvar = self.fc_logvar(pooled_x)\n",
    "        return mu, logvar"
   ]
  },
  {
   "cell_type": "code",
   "execution_count": 86,
   "metadata": {},
   "outputs": [
    {
     "data": {
      "text/plain": [
       "tensor([ 0, 11, 10,  7, 13, 10, 13,  0,  7,  6,  7,  0,  6, 18, 19,  7, 12,  7,\n",
       "        11,  5, 13, 13,  3,  2, 13,  5,  5, 15, 11,  5, 19, 13, 11,  1, 15, 15,\n",
       "         5,  0, 10,  7,  9,  3, 12,  5,  5, 10,  4, 13,  2,  3, 14,  5,  7, 10,\n",
       "        10,  2, 11, 16,  5, 13, 16,  6, 14,  0,  9,  9, 16, 16,  2, 12,  0,  9,\n",
       "        10, 16,  0, 10,  3, 11, 10,  7, 19, 11, 15,  8,  9, 15,  4,  7, 10, 15,\n",
       "        10,  7,  5, 18, 15,  0, 10,  9,  8, 15,  7,  0,  9,  2, 13,  5,  3,  7,\n",
       "        19, 11, 10, 19, 11, 11,  1,  7, 11, 13, 12,  6,  5,  0, 19,  0,  5,  7,\n",
       "         9,  7,  7, 12, 19,  0, 19, 10,  1, 12, 16, 14,  5,  6, 19,  3,  5,  9,\n",
       "         9,  5, 11, 15, 15, 14, 18,  7,  9, 19,  5,  7,  0,  2, 18,  2, 15, 14,\n",
       "         7,  6,  9, 19,  9, 15,  7,  5, 10, 19,  0, 10,  5, 11,  0, 12,  5, 13,\n",
       "         9, 11,  5, 19,  7,  7,  1,  0,  9, 11, 10, 14, 19, 15,  0, 14, 13,  8,\n",
       "         4, 15, 12, 10,  6, 14,  0,  0,  5, 11, 10,  5,  3,  5, 10,  2, 11,  9,\n",
       "        15,  9,  2, 11, 10,  2,  7,  9, 19, 12, 15,  2, 19, 11,  7,  5,  0, 18,\n",
       "        10,  5,  3,  3,  2,  9,  9,  5, 10, 10, 16, 15,  6, 19, 11, 11, 14, 19,\n",
       "        10, 13,  9,  2,  3,  9,  5, 11, 12,  9,  5, 15,  7, 19,  3, 16, 13,  9,\n",
       "         5,  9,  7, 14,  7, 11,  0, 10, 15,  7, 13, 19, 11, 11,  9,  2, 11,  2,\n",
       "        19, 16, 19, 10,  2, 19,  5,  3, 10, 11, 15, 10,  5, 11, 16, 10, 15, 11,\n",
       "        10,  1,  5, 12,  5, 19, 10,  0,  5,  2])"
      ]
     },
     "execution_count": 86,
     "metadata": {},
     "output_type": "execute_result"
    }
   ],
   "source": [
    "test_batch[3].x"
   ]
  },
  {
   "cell_type": "code",
   "execution_count": 49,
   "metadata": {},
   "outputs": [],
   "source": [
    "hidden_dim = 32\n",
    "kpool = TopKPooling(hidden_dim, ratio=int(4))\n",
    "gcn = GCNConv(1, hidden_dim)"
   ]
  },
  {
   "cell_type": "code",
   "execution_count": 50,
   "metadata": {},
   "outputs": [],
   "source": [
    "out_gcn = gcn(test_batch.x.unsqueeze(-1).float(), test_batch.edge_index)\n",
    "pool_out = kpool(out_gcn, test_batch.edge_index, batch = test_batch.batch)"
   ]
  },
  {
   "cell_type": "code",
   "execution_count": 51,
   "metadata": {},
   "outputs": [
    {
     "data": {
      "text/plain": [
       "torch.Size([4217, 32])"
      ]
     },
     "execution_count": 51,
     "metadata": {},
     "output_type": "execute_result"
    }
   ],
   "source": [
    "out_gcn.shape"
   ]
  },
  {
   "cell_type": "code",
   "execution_count": 52,
   "metadata": {},
   "outputs": [
    {
     "name": "stdout",
     "output_type": "stream",
     "text": [
      "torch.Size([64, 32])\n",
      "torch.Size([2, 38])\n",
      "torch.Size([64])\n",
      "torch.Size([64])\n",
      "torch.Size([64])\n"
     ]
    }
   ],
   "source": [
    "for out in pool_out:\n",
    "    try:\n",
    "        print(out.shape)\n",
    "    except:\n",
    "        continue"
   ]
  },
  {
   "cell_type": "code",
   "execution_count": 55,
   "metadata": {},
   "outputs": [
    {
     "data": {
      "text/plain": [
       "torch.Size([16, 4, 32])"
      ]
     },
     "execution_count": 55,
     "metadata": {},
     "output_type": "execute_result"
    }
   ],
   "source": [
    "pool_out[0].reshape(batch_size, 4,-1).shape"
   ]
  },
  {
   "cell_type": "code",
   "execution_count": 59,
   "metadata": {},
   "outputs": [
    {
     "data": {
      "text/plain": [
       "torch.Size([64, 32])"
      ]
     },
     "execution_count": 59,
     "metadata": {},
     "output_type": "execute_result"
    }
   ],
   "source": [
    "pool_out[0].shape"
   ]
  },
  {
   "cell_type": "code",
   "execution_count": 61,
   "metadata": {},
   "outputs": [
    {
     "data": {
      "text/plain": [
       "tensor([0, 0, 0, 0])"
      ]
     },
     "execution_count": 61,
     "metadata": {},
     "output_type": "execute_result"
    }
   ],
   "source": [
    "pool_out[-3].reshape(16, 4)[0]"
   ]
  },
  {
   "cell_type": "code",
   "execution_count": 26,
   "metadata": {},
   "outputs": [
    {
     "data": {
      "text/plain": [
       "torch.Size([2, 42486])"
      ]
     },
     "execution_count": 26,
     "metadata": {},
     "output_type": "execute_result"
    }
   ],
   "source": [
    "test_batch.edge_index.shape"
   ]
  },
  {
   "cell_type": "code",
   "execution_count": 28,
   "metadata": {},
   "outputs": [
    {
     "data": {
      "text/plain": [
       "torch.Size([4217])"
      ]
     },
     "execution_count": 28,
     "metadata": {},
     "output_type": "execute_result"
    }
   ],
   "source": [
    "test_batch.x.shape"
   ]
  },
  {
   "cell_type": "code",
   "execution_count": null,
   "metadata": {},
   "outputs": [],
   "source": []
  }
 ],
 "metadata": {
  "kernelspec": {
   "display_name": "ProteinManifoldLearning",
   "language": "python",
   "name": "python3"
  },
  "language_info": {
   "codemirror_mode": {
    "name": "ipython",
    "version": 3
   },
   "file_extension": ".py",
   "mimetype": "text/x-python",
   "name": "python",
   "nbconvert_exporter": "python",
   "pygments_lexer": "ipython3",
   "version": "3.10.16"
  }
 },
 "nbformat": 4,
 "nbformat_minor": 2
}
