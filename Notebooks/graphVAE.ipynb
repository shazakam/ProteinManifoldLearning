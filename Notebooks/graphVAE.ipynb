{
 "cells": [
  {
   "cell_type": "code",
   "execution_count": 26,
   "metadata": {},
   "outputs": [
    {
     "name": "stdout",
     "output_type": "stream",
     "text": [
      "The autoreload extension is already loaded. To reload it, use:\n",
      "  %reload_ext autoreload\n"
     ]
    }
   ],
   "source": [
    "import torch\n",
    "import numpy as np\n",
    "import torch.nn as nn\n",
    "import sys\n",
    "import os\n",
    "project_root = os.path.abspath(\"..\")  # Adjust if needed\n",
    "import pytorch_lightning as pl\n",
    "# Add the project root to sys.path\n",
    "if project_root not in sys.path:\n",
    "    sys.path.append(project_root)\n",
    "\n",
    "from src.models.pointNetVae import PointNetVAE\n",
    "from src.utils.data_utils import *\n",
    "from src.dataset_classes.pointDataset import *\n",
    "from proteinshake.datasets import ProteinFamilyDataset\n",
    "from proteinshake.tasks import LigandAffinityTask\n",
    "import random\n",
    "from torch.utils.data import DataLoader, Dataset, Subset\n",
    "%load_ext autoreload\n",
    "%autoreload 2"
   ]
  },
  {
   "cell_type": "code",
   "execution_count": 49,
   "metadata": {},
   "outputs": [],
   "source": [
    "dataset = ProteinFamilyDataset(root='../data').to_graph(eps = 8).pyg()\n",
    "dataset = [data[0] for data in dataset]"
   ]
  },
  {
   "cell_type": "code",
   "execution_count": 19,
   "metadata": {},
   "outputs": [],
   "source": [
    "graph = dataset[0][0]\n",
    "leng = len(dataset[0][1]['protein']['sequence'])"
   ]
  },
  {
   "cell_type": "code",
   "execution_count": 72,
   "metadata": {},
   "outputs": [
    {
     "data": {
      "text/plain": [
       "torch.Size([277, 1])"
      ]
     },
     "execution_count": 72,
     "metadata": {},
     "output_type": "execute_result"
    }
   ],
   "source": [
    "dataset[0].x.unsqueeze(1).shape"
   ]
  },
  {
   "cell_type": "code",
   "execution_count": 98,
   "metadata": {},
   "outputs": [],
   "source": [
    "from torch_geometric.loader import DataLoader\n",
    "\n",
    "# dataset = [...]  # List of torch_geometric.data.Data objects (one per graph)\n",
    "batch_size = 16\n",
    "loader = DataLoader(dataset, batch_size=batch_size, shuffle=True)\n",
    "test_batch = next(iter(loader))"
   ]
  },
  {
   "cell_type": "code",
   "execution_count": 100,
   "metadata": {},
   "outputs": [
    {
     "data": {
      "text/plain": [
       "tensor([[   0,    0,    1,  ..., 3150, 3150, 3150],\n",
       "        [   1,    2,    2,  ..., 3149, 2737, 2736]])"
      ]
     },
     "execution_count": 100,
     "metadata": {},
     "output_type": "execute_result"
    }
   ],
   "source": [
    "test_batch.edge_index"
   ]
  },
  {
   "cell_type": "code",
   "execution_count": 165,
   "metadata": {},
   "outputs": [],
   "source": [
    "from torch_geometric.nn import GCNConv, dense_diff_pool, global_mean_pool, TopKPooling\n",
    "hidden_dim = 32\n",
    "latent_dim = 2\n",
    "class encoder(nn.Module):\n",
    "    def __init__(self):\n",
    "        super().__init__()\n",
    "        self.conv1 = GCNConv(1, hidden_dim, cached=True) # cached only for transductive learning\n",
    "        self.conv2 = GCNConv(hidden_dim ,2*hidden_dim)\n",
    "\n",
    "        self.fc_mu = nn.Linear(2*hidden_dim, latent_dim)\n",
    "        self.fc_logvar = nn.Linear(2*hidden_dim, latent_dim)\n",
    "        \n",
    "\n",
    "    def forward(self,x):\n",
    "        x_f, x_edg, x_batch = x.x.unsqueeze(-1).float(), x.edge_index, x.batch\n",
    "        x_f = self.conv1(x_f, x_edg)\n",
    "\n",
    "        x_f = self.conv2(x_f, x_edg)\n",
    "        pooled_x = global_mean_pool(x_f, x_batch)\n",
    "        mu = self.fc_mu(pooled_x)\n",
    "        logvar = self.fc_logvar(pooled_x)\n",
    "        return mu, logvar"
   ]
  }
 ],
 "metadata": {
  "kernelspec": {
   "display_name": "ProteinManifoldLearning",
   "language": "python",
   "name": "python3"
  },
  "language_info": {
   "codemirror_mode": {
    "name": "ipython",
    "version": 3
   },
   "file_extension": ".py",
   "mimetype": "text/x-python",
   "name": "python",
   "nbconvert_exporter": "python",
   "pygments_lexer": "ipython3",
   "version": "3.10.16"
  }
 },
 "nbformat": 4,
 "nbformat_minor": 2
}
