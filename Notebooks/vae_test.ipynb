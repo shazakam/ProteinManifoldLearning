{
 "cells": [
  {
   "cell_type": "code",
   "execution_count": 310,
   "metadata": {},
   "outputs": [
    {
     "name": "stdout",
     "output_type": "stream",
     "text": [
      "The autoreload extension is already loaded. To reload it, use:\n",
      "  %reload_ext autoreload\n"
     ]
    }
   ],
   "source": [
    "import torch \n",
    "import torch.nn as nn\n",
    "import os \n",
    "import sys\n",
    "# Get the absolute path of the project root\n",
    "project_root = os.path.abspath(\"..\")  # Adjust if needed\n",
    "\n",
    "# Add the project root to sys.path\n",
    "if project_root not in sys.path:\n",
    "    sys.path.append(project_root)\n",
    "\n",
    "from proteinshake.datasets import ProteinLigandInterfaceDataset, AlphaFoldDataset, GeneOntologyDataset, ProteinFamilyDataset\n",
    "from src.utils import data_utils as dtu\n",
    "from torch.utils.data import DataLoader, Dataset, Subset\n",
    "from src.models.basicVae import LitBasicVae\n",
    "# from src.models.basicVae_pyt import BasicVae\n",
    "import numpy as np\n",
    "from src.dataset_classes.sequenceDataset import *\n",
    "from sklearn.model_selection import KFold\n",
    "%load_ext autoreload\n",
    "%autoreload 2"
   ]
  },
  {
   "cell_type": "code",
   "execution_count": 3,
   "metadata": {},
   "outputs": [],
   "source": [
    "dataset = ProteinFamilyDataset(root='../data').to_point().torch()"
   ]
  },
  {
   "cell_type": "code",
   "execution_count": 311,
   "metadata": {},
   "outputs": [
    {
     "name": "stdout",
     "output_type": "stream",
     "text": [
      "Random Subset: [6, 0, 23, 21, 37, 84, 64, 44, 82, 24]\n",
      "Remaining Subset: [1, 2, 3, 4, 5, 7, 8, 9, 10, 11, 12, 13, 14, 15, 16, 17, 18, 19, 20, 22, 25, 26, 27, 28, 29, 30, 31, 32, 33, 34, 35, 36, 38, 39, 40, 41, 42, 43, 45, 46, 47, 48, 49, 50, 51, 52, 53, 54, 55, 56, 57, 58, 59, 60, 61, 62, 63, 65, 66, 67, 68, 69, 70, 71, 72, 73, 74, 75, 76, 77, 78, 79, 80, 81, 83, 85, 86, 87, 88, 89, 90, 91, 92, 93, 94, 95, 96, 97, 98, 99]\n"
     ]
    }
   ],
   "source": [
    "import random\n",
    "\n",
    "indices = list(range(100))  # Example list of indices\n",
    "subset_size = 10  # Size of the random subset\n",
    "\n",
    "random_subset = random.sample(indices, subset_size)  # Get random subset\n",
    "remaining_subset = list(set(indices) - set(random_subset))  # Get remaining indices\n",
    "\n",
    "print(\"Random Subset:\", random_subset)\n",
    "print(\"Remaining Subset:\", remaining_subset)"
   ]
  },
  {
   "cell_type": "code",
   "execution_count": 312,
   "metadata": {},
   "outputs": [],
   "source": [
    "idx_list = range(len(dataset))\n",
    "subset_size = int(len(dataset)//10)\n",
    "val_idx = random.sample(idx_list, subset_size)  # Get random subset\n",
    "train_idx = list(set(idx_list) - set(val_idx))"
   ]
  },
  {
   "cell_type": "code",
   "execution_count": 313,
   "metadata": {},
   "outputs": [
    {
     "name": "stderr",
     "output_type": "stream",
     "text": [
      "100%|██████████| 27999/27999 [00:07<00:00, 3608.05it/s]\n",
      "100%|██████████| 3110/3110 [00:01<00:00, 2639.00it/s]\n"
     ]
    }
   ],
   "source": [
    "s = 400\n",
    "train_subset = SequenceDataset(Subset(dataset, train_idx), s)\n",
    "val_subset = SequenceDataset(Subset(dataset, val_idx), s)"
   ]
  },
  {
   "cell_type": "code",
   "execution_count": 314,
   "metadata": {},
   "outputs": [],
   "source": [
    "def ELBO(x, x_hat, x_mu, x_logvar):\n",
    "    rec_loss = torch.nn.functional.mse_loss(x_hat, x, reduction='sum')\n",
    "    KL_loss = -0.5 * torch.sum(1 + x_logvar - x_mu.pow(2) - x_logvar.exp())\n",
    "    return (rec_loss + KL_loss) / x.size(0) \n"
   ]
  },
  {
   "cell_type": "code",
   "execution_count": 315,
   "metadata": {},
   "outputs": [
    {
     "data": {
      "text/plain": [
       "22455"
      ]
     },
     "execution_count": 315,
     "metadata": {},
     "output_type": "execute_result"
    }
   ],
   "source": [
    "len(train_subset)"
   ]
  },
  {
   "cell_type": "code",
   "execution_count": 376,
   "metadata": {},
   "outputs": [],
   "source": [
    "latent_dim = 64\n",
    "epochs = 100\n",
    "lr = 0.001\n",
    "batch_size = 128\n",
    "train_dataloader = DataLoader(train_subset, batch_size=batch_size, shuffle=True)\n",
    "val_dataloader = DataLoader(val_subset,batch_size=batch_size, shuffle=False)\n",
    "x_dim = train_subset[0].shape[0]\n",
    "if torch.cuda.is_available():\n",
    "    torch.cuda.current_device()\n",
    "device = torch.device(\"cuda:0\" if torch.cuda.is_available() else \"cpu\")"
   ]
  },
  {
   "cell_type": "code",
   "execution_count": 377,
   "metadata": {},
   "outputs": [
    {
     "data": {
      "text/plain": [
       "torch.Size([400, 21])"
      ]
     },
     "execution_count": 377,
     "metadata": {},
     "output_type": "execute_result"
    }
   ],
   "source": [
    "next(iter(train_dataloader))[0].shape"
   ]
  },
  {
   "cell_type": "code",
   "execution_count": 381,
   "metadata": {},
   "outputs": [
    {
     "data": {
      "text/plain": [
       "LitBasicVae(\n",
       "  (tanh): Tanh()\n",
       "  (soft): Softmax(dim=2)\n",
       "  (dropout_layer): Dropout(p=0.0, inplace=False)\n",
       "  (fc1_enc): Linear(in_features=8400, out_features=256, bias=True)\n",
       "  (bn1): BatchNorm1d(256, eps=1e-05, momentum=0.1, affine=True, track_running_stats=True)\n",
       "  (fc3_enc_mean): Linear(in_features=256, out_features=64, bias=True)\n",
       "  (fc3_enc_logvar): Linear(in_features=256, out_features=64, bias=True)\n",
       "  (fc1_dec): Linear(in_features=64, out_features=256, bias=True)\n",
       "  (bn2): BatchNorm1d(256, eps=1e-05, momentum=0.1, affine=True, track_running_stats=True)\n",
       "  (fc3_dec): Linear(in_features=256, out_features=8400, bias=True)\n",
       "  (bn3): BatchNorm1d(8400, eps=1e-05, momentum=0.1, affine=True, track_running_stats=True)\n",
       ")"
      ]
     },
     "execution_count": 381,
     "metadata": {},
     "output_type": "execute_result"
    }
   ],
   "source": [
    "model = LitBasicVae(latent_dim=latent_dim, seq_len= s, hidden_dim= 256, amino_acids = 21, optimizer=torch.optim.Adam, optimizer_param={'lr':0.001}, beta = 1, dropout = 0.0, reconstruction_loss_weight = 1)\n",
    "model"
   ]
  },
  {
   "cell_type": "code",
   "execution_count": 382,
   "metadata": {},
   "outputs": [
    {
     "name": "stderr",
     "output_type": "stream",
     "text": [
      "GPU available: True (mps), used: True\n",
      "TPU available: False, using: 0 TPU cores\n",
      "HPU available: False, using: 0 HPUs\n"
     ]
    }
   ],
   "source": [
    "from pytorch_lightning.loggers import TensorBoardLogger\n",
    "from pytorch_lightning.callbacks import EarlyStopping\n",
    "import pytorch_lightning as pl\n",
    "optimizer = torch.optim.Adam\n",
    "optimizer_param = {'lr':0.001}\n",
    "trainer = pl.Trainer(max_epochs=epochs,\n",
    "    accelerator=\"auto\",\n",
    "    devices=\"auto\",\n",
    "    logger=TensorBoardLogger(save_dir=\"logs/\"))\n",
    "# model = LitBasicVae(latent_dim, x_dim, optimizer, optimizer_param,)\n"
   ]
  },
  {
   "cell_type": "code",
   "execution_count": 383,
   "metadata": {},
   "outputs": [
    {
     "name": "stderr",
     "output_type": "stream",
     "text": [
      "\n",
      "   | Name           | Type        | Params | Mode \n",
      "--------------------------------------------------------\n",
      "0  | tanh           | Tanh        | 0      | train\n",
      "1  | soft           | Softmax     | 0      | train\n",
      "2  | dropout_layer  | Dropout     | 0      | train\n",
      "3  | fc1_enc        | Linear      | 2.2 M  | train\n",
      "4  | bn1            | BatchNorm1d | 512    | train\n",
      "5  | fc3_enc_mean   | Linear      | 16.4 K | train\n",
      "6  | fc3_enc_logvar | Linear      | 16.4 K | train\n",
      "7  | fc1_dec        | Linear      | 16.6 K | train\n",
      "8  | bn2            | BatchNorm1d | 512    | train\n",
      "9  | fc3_dec        | Linear      | 2.2 M  | train\n",
      "10 | bn3            | BatchNorm1d | 16.8 K | train\n",
      "--------------------------------------------------------\n",
      "4.4 M     Trainable params\n",
      "0         Non-trainable params\n",
      "4.4 M     Total params\n",
      "17.507    Total estimated model params size (MB)\n",
      "11        Modules in train mode\n",
      "0         Modules in eval mode\n"
     ]
    },
    {
     "data": {
      "application/vnd.jupyter.widget-view+json": {
       "model_id": "bd7f2b84215d4577b805aafe83626e27",
       "version_major": 2,
       "version_minor": 0
      },
      "text/plain": [
       "Sanity Checking: |          | 0/? [00:00<?, ?it/s]"
      ]
     },
     "metadata": {},
     "output_type": "display_data"
    },
    {
     "data": {
      "application/vnd.jupyter.widget-view+json": {
       "model_id": "6decbb8eab364fd993b99599e530efc4",
       "version_major": 2,
       "version_minor": 0
      },
      "text/plain": [
       "Training: |          | 0/? [00:00<?, ?it/s]"
      ]
     },
     "metadata": {},
     "output_type": "display_data"
    },
    {
     "data": {
      "application/vnd.jupyter.widget-view+json": {
       "model_id": "b9d2416f53d049ae8c9f8087333b75ea",
       "version_major": 2,
       "version_minor": 0
      },
      "text/plain": [
       "Validation: |          | 0/? [00:00<?, ?it/s]"
      ]
     },
     "metadata": {},
     "output_type": "display_data"
    },
    {
     "data": {
      "application/vnd.jupyter.widget-view+json": {
       "model_id": "be25bb63dc9548f6b8ef8de858098314",
       "version_major": 2,
       "version_minor": 0
      },
      "text/plain": [
       "Validation: |          | 0/? [00:00<?, ?it/s]"
      ]
     },
     "metadata": {},
     "output_type": "display_data"
    },
    {
     "data": {
      "application/vnd.jupyter.widget-view+json": {
       "model_id": "114bdedc96524b508c3c9ec6b9469af7",
       "version_major": 2,
       "version_minor": 0
      },
      "text/plain": [
       "Validation: |          | 0/? [00:00<?, ?it/s]"
      ]
     },
     "metadata": {},
     "output_type": "display_data"
    },
    {
     "data": {
      "application/vnd.jupyter.widget-view+json": {
       "model_id": "09cd49d134114d7b90c549ee3e5d07d7",
       "version_major": 2,
       "version_minor": 0
      },
      "text/plain": [
       "Validation: |          | 0/? [00:00<?, ?it/s]"
      ]
     },
     "metadata": {},
     "output_type": "display_data"
    },
    {
     "data": {
      "application/vnd.jupyter.widget-view+json": {
       "model_id": "ad8cfdf09a9e4710841afff678e894f5",
       "version_major": 2,
       "version_minor": 0
      },
      "text/plain": [
       "Validation: |          | 0/? [00:00<?, ?it/s]"
      ]
     },
     "metadata": {},
     "output_type": "display_data"
    },
    {
     "data": {
      "application/vnd.jupyter.widget-view+json": {
       "model_id": "116c3a1dcc6d4310b505c802979fcea4",
       "version_major": 2,
       "version_minor": 0
      },
      "text/plain": [
       "Validation: |          | 0/? [00:00<?, ?it/s]"
      ]
     },
     "metadata": {},
     "output_type": "display_data"
    },
    {
     "data": {
      "application/vnd.jupyter.widget-view+json": {
       "model_id": "98b6edfae6ed4fe0ac2b2a24abf1d637",
       "version_major": 2,
       "version_minor": 0
      },
      "text/plain": [
       "Validation: |          | 0/? [00:00<?, ?it/s]"
      ]
     },
     "metadata": {},
     "output_type": "display_data"
    },
    {
     "data": {
      "application/vnd.jupyter.widget-view+json": {
       "model_id": "ce7522868db746cb94a35ef679a12158",
       "version_major": 2,
       "version_minor": 0
      },
      "text/plain": [
       "Validation: |          | 0/? [00:00<?, ?it/s]"
      ]
     },
     "metadata": {},
     "output_type": "display_data"
    },
    {
     "data": {
      "application/vnd.jupyter.widget-view+json": {
       "model_id": "3a50c238a2b04916a2a0ade2cb58c564",
       "version_major": 2,
       "version_minor": 0
      },
      "text/plain": [
       "Validation: |          | 0/? [00:00<?, ?it/s]"
      ]
     },
     "metadata": {},
     "output_type": "display_data"
    },
    {
     "data": {
      "application/vnd.jupyter.widget-view+json": {
       "model_id": "9111cd18d0a240bda52f9239478fcf36",
       "version_major": 2,
       "version_minor": 0
      },
      "text/plain": [
       "Validation: |          | 0/? [00:00<?, ?it/s]"
      ]
     },
     "metadata": {},
     "output_type": "display_data"
    },
    {
     "data": {
      "application/vnd.jupyter.widget-view+json": {
       "model_id": "d04bbe4219114a999e9d0f55f24a2154",
       "version_major": 2,
       "version_minor": 0
      },
      "text/plain": [
       "Validation: |          | 0/? [00:00<?, ?it/s]"
      ]
     },
     "metadata": {},
     "output_type": "display_data"
    },
    {
     "data": {
      "application/vnd.jupyter.widget-view+json": {
       "model_id": "f58cbb5b0a394b92bff5b927ae64dc1c",
       "version_major": 2,
       "version_minor": 0
      },
      "text/plain": [
       "Validation: |          | 0/? [00:00<?, ?it/s]"
      ]
     },
     "metadata": {},
     "output_type": "display_data"
    },
    {
     "data": {
      "application/vnd.jupyter.widget-view+json": {
       "model_id": "01ec18611b584ffc8b8d5d5cbad6f25d",
       "version_major": 2,
       "version_minor": 0
      },
      "text/plain": [
       "Validation: |          | 0/? [00:00<?, ?it/s]"
      ]
     },
     "metadata": {},
     "output_type": "display_data"
    },
    {
     "data": {
      "application/vnd.jupyter.widget-view+json": {
       "model_id": "57a24b937abd42429e9d77a44c079efb",
       "version_major": 2,
       "version_minor": 0
      },
      "text/plain": [
       "Validation: |          | 0/? [00:00<?, ?it/s]"
      ]
     },
     "metadata": {},
     "output_type": "display_data"
    },
    {
     "data": {
      "application/vnd.jupyter.widget-view+json": {
       "model_id": "ba527ff062064da2b37726b04ce7045a",
       "version_major": 2,
       "version_minor": 0
      },
      "text/plain": [
       "Validation: |          | 0/? [00:00<?, ?it/s]"
      ]
     },
     "metadata": {},
     "output_type": "display_data"
    },
    {
     "data": {
      "application/vnd.jupyter.widget-view+json": {
       "model_id": "0bdfcf9084f04d019fa1161d03a9caad",
       "version_major": 2,
       "version_minor": 0
      },
      "text/plain": [
       "Validation: |          | 0/? [00:00<?, ?it/s]"
      ]
     },
     "metadata": {},
     "output_type": "display_data"
    },
    {
     "data": {
      "application/vnd.jupyter.widget-view+json": {
       "model_id": "e132bc406a294a2b8248957ab7b6a10d",
       "version_major": 2,
       "version_minor": 0
      },
      "text/plain": [
       "Validation: |          | 0/? [00:00<?, ?it/s]"
      ]
     },
     "metadata": {},
     "output_type": "display_data"
    },
    {
     "data": {
      "application/vnd.jupyter.widget-view+json": {
       "model_id": "58e34f6f93404b48a566b49536e192b5",
       "version_major": 2,
       "version_minor": 0
      },
      "text/plain": [
       "Validation: |          | 0/? [00:00<?, ?it/s]"
      ]
     },
     "metadata": {},
     "output_type": "display_data"
    },
    {
     "data": {
      "application/vnd.jupyter.widget-view+json": {
       "model_id": "35cb135a5def4681aea8fa9cd1e5a486",
       "version_major": 2,
       "version_minor": 0
      },
      "text/plain": [
       "Validation: |          | 0/? [00:00<?, ?it/s]"
      ]
     },
     "metadata": {},
     "output_type": "display_data"
    },
    {
     "data": {
      "application/vnd.jupyter.widget-view+json": {
       "model_id": "0ad3fb36a6aa487790f3d8c0648d3f00",
       "version_major": 2,
       "version_minor": 0
      },
      "text/plain": [
       "Validation: |          | 0/? [00:00<?, ?it/s]"
      ]
     },
     "metadata": {},
     "output_type": "display_data"
    },
    {
     "data": {
      "application/vnd.jupyter.widget-view+json": {
       "model_id": "46e982a2150a4a50aeca6f3edccc4d63",
       "version_major": 2,
       "version_minor": 0
      },
      "text/plain": [
       "Validation: |          | 0/? [00:00<?, ?it/s]"
      ]
     },
     "metadata": {},
     "output_type": "display_data"
    },
    {
     "data": {
      "application/vnd.jupyter.widget-view+json": {
       "model_id": "2a9e6c3198e4463ea01410a4a0f18040",
       "version_major": 2,
       "version_minor": 0
      },
      "text/plain": [
       "Validation: |          | 0/? [00:00<?, ?it/s]"
      ]
     },
     "metadata": {},
     "output_type": "display_data"
    },
    {
     "data": {
      "application/vnd.jupyter.widget-view+json": {
       "model_id": "feef6cf6c1a040a8bb41c299c7ba313a",
       "version_major": 2,
       "version_minor": 0
      },
      "text/plain": [
       "Validation: |          | 0/? [00:00<?, ?it/s]"
      ]
     },
     "metadata": {},
     "output_type": "display_data"
    },
    {
     "data": {
      "application/vnd.jupyter.widget-view+json": {
       "model_id": "62d26ec42e1d40d08323081be824cd7b",
       "version_major": 2,
       "version_minor": 0
      },
      "text/plain": [
       "Validation: |          | 0/? [00:00<?, ?it/s]"
      ]
     },
     "metadata": {},
     "output_type": "display_data"
    },
    {
     "data": {
      "application/vnd.jupyter.widget-view+json": {
       "model_id": "9140bd289add4297bb7834eefbd0ff09",
       "version_major": 2,
       "version_minor": 0
      },
      "text/plain": [
       "Validation: |          | 0/? [00:00<?, ?it/s]"
      ]
     },
     "metadata": {},
     "output_type": "display_data"
    },
    {
     "data": {
      "application/vnd.jupyter.widget-view+json": {
       "model_id": "1659d87af97f4d2e98cc885057748f8c",
       "version_major": 2,
       "version_minor": 0
      },
      "text/plain": [
       "Validation: |          | 0/? [00:00<?, ?it/s]"
      ]
     },
     "metadata": {},
     "output_type": "display_data"
    },
    {
     "data": {
      "application/vnd.jupyter.widget-view+json": {
       "model_id": "2b402b407003463d914c5a903f0e9834",
       "version_major": 2,
       "version_minor": 0
      },
      "text/plain": [
       "Validation: |          | 0/? [00:00<?, ?it/s]"
      ]
     },
     "metadata": {},
     "output_type": "display_data"
    },
    {
     "data": {
      "application/vnd.jupyter.widget-view+json": {
       "model_id": "8b32867c772b4579bb83547fa0a3fc80",
       "version_major": 2,
       "version_minor": 0
      },
      "text/plain": [
       "Validation: |          | 0/? [00:00<?, ?it/s]"
      ]
     },
     "metadata": {},
     "output_type": "display_data"
    },
    {
     "data": {
      "application/vnd.jupyter.widget-view+json": {
       "model_id": "aa9c5da660b0436daaec1abca43f0f2a",
       "version_major": 2,
       "version_minor": 0
      },
      "text/plain": [
       "Validation: |          | 0/? [00:00<?, ?it/s]"
      ]
     },
     "metadata": {},
     "output_type": "display_data"
    },
    {
     "data": {
      "application/vnd.jupyter.widget-view+json": {
       "model_id": "0fe9ba4ba0c54aab9a9a580555905074",
       "version_major": 2,
       "version_minor": 0
      },
      "text/plain": [
       "Validation: |          | 0/? [00:00<?, ?it/s]"
      ]
     },
     "metadata": {},
     "output_type": "display_data"
    },
    {
     "data": {
      "application/vnd.jupyter.widget-view+json": {
       "model_id": "566451157a6a4cd692b35cc741d063df",
       "version_major": 2,
       "version_minor": 0
      },
      "text/plain": [
       "Validation: |          | 0/? [00:00<?, ?it/s]"
      ]
     },
     "metadata": {},
     "output_type": "display_data"
    },
    {
     "data": {
      "application/vnd.jupyter.widget-view+json": {
       "model_id": "27cc76da9d364529a5b3d57f8a986d8c",
       "version_major": 2,
       "version_minor": 0
      },
      "text/plain": [
       "Validation: |          | 0/? [00:00<?, ?it/s]"
      ]
     },
     "metadata": {},
     "output_type": "display_data"
    },
    {
     "data": {
      "application/vnd.jupyter.widget-view+json": {
       "model_id": "42f94386603544239401d87f161bc017",
       "version_major": 2,
       "version_minor": 0
      },
      "text/plain": [
       "Validation: |          | 0/? [00:00<?, ?it/s]"
      ]
     },
     "metadata": {},
     "output_type": "display_data"
    },
    {
     "data": {
      "application/vnd.jupyter.widget-view+json": {
       "model_id": "55ea59246a824eb5ac11cae26f0bdcd5",
       "version_major": 2,
       "version_minor": 0
      },
      "text/plain": [
       "Validation: |          | 0/? [00:00<?, ?it/s]"
      ]
     },
     "metadata": {},
     "output_type": "display_data"
    },
    {
     "data": {
      "application/vnd.jupyter.widget-view+json": {
       "model_id": "ab504d8617794c82ae6bc20e69206cb0",
       "version_major": 2,
       "version_minor": 0
      },
      "text/plain": [
       "Validation: |          | 0/? [00:00<?, ?it/s]"
      ]
     },
     "metadata": {},
     "output_type": "display_data"
    },
    {
     "data": {
      "application/vnd.jupyter.widget-view+json": {
       "model_id": "28ec8215046f4177836370a5debc77ca",
       "version_major": 2,
       "version_minor": 0
      },
      "text/plain": [
       "Validation: |          | 0/? [00:00<?, ?it/s]"
      ]
     },
     "metadata": {},
     "output_type": "display_data"
    },
    {
     "data": {
      "application/vnd.jupyter.widget-view+json": {
       "model_id": "dfff37d981344d8aaa2ee737c68af6b6",
       "version_major": 2,
       "version_minor": 0
      },
      "text/plain": [
       "Validation: |          | 0/? [00:00<?, ?it/s]"
      ]
     },
     "metadata": {},
     "output_type": "display_data"
    },
    {
     "data": {
      "application/vnd.jupyter.widget-view+json": {
       "model_id": "a3cfd3f3b8bd4c09b0b83b34815573a9",
       "version_major": 2,
       "version_minor": 0
      },
      "text/plain": [
       "Validation: |          | 0/? [00:00<?, ?it/s]"
      ]
     },
     "metadata": {},
     "output_type": "display_data"
    },
    {
     "data": {
      "application/vnd.jupyter.widget-view+json": {
       "model_id": "69f92c15d1074725b98535c197681a9f",
       "version_major": 2,
       "version_minor": 0
      },
      "text/plain": [
       "Validation: |          | 0/? [00:00<?, ?it/s]"
      ]
     },
     "metadata": {},
     "output_type": "display_data"
    },
    {
     "data": {
      "application/vnd.jupyter.widget-view+json": {
       "model_id": "41040b354cfa47048caa51a70d915c72",
       "version_major": 2,
       "version_minor": 0
      },
      "text/plain": [
       "Validation: |          | 0/? [00:00<?, ?it/s]"
      ]
     },
     "metadata": {},
     "output_type": "display_data"
    },
    {
     "data": {
      "application/vnd.jupyter.widget-view+json": {
       "model_id": "a4f2d8a95f374405b7a4c2b2665f3e92",
       "version_major": 2,
       "version_minor": 0
      },
      "text/plain": [
       "Validation: |          | 0/? [00:00<?, ?it/s]"
      ]
     },
     "metadata": {},
     "output_type": "display_data"
    },
    {
     "data": {
      "application/vnd.jupyter.widget-view+json": {
       "model_id": "88d06c845f3d443a8e0c7c4735c75056",
       "version_major": 2,
       "version_minor": 0
      },
      "text/plain": [
       "Validation: |          | 0/? [00:00<?, ?it/s]"
      ]
     },
     "metadata": {},
     "output_type": "display_data"
    },
    {
     "data": {
      "application/vnd.jupyter.widget-view+json": {
       "model_id": "51f5f0619183499091c11ceafb5d6cc7",
       "version_major": 2,
       "version_minor": 0
      },
      "text/plain": [
       "Validation: |          | 0/? [00:00<?, ?it/s]"
      ]
     },
     "metadata": {},
     "output_type": "display_data"
    },
    {
     "data": {
      "application/vnd.jupyter.widget-view+json": {
       "model_id": "d8b88c5108d0461a8e5c35825698cb21",
       "version_major": 2,
       "version_minor": 0
      },
      "text/plain": [
       "Validation: |          | 0/? [00:00<?, ?it/s]"
      ]
     },
     "metadata": {},
     "output_type": "display_data"
    },
    {
     "data": {
      "application/vnd.jupyter.widget-view+json": {
       "model_id": "50eaae7dafd94cbc8777be4809179b0b",
       "version_major": 2,
       "version_minor": 0
      },
      "text/plain": [
       "Validation: |          | 0/? [00:00<?, ?it/s]"
      ]
     },
     "metadata": {},
     "output_type": "display_data"
    },
    {
     "data": {
      "application/vnd.jupyter.widget-view+json": {
       "model_id": "cb9dda7b993e4485b8d31afcf4b5741e",
       "version_major": 2,
       "version_minor": 0
      },
      "text/plain": [
       "Validation: |          | 0/? [00:00<?, ?it/s]"
      ]
     },
     "metadata": {},
     "output_type": "display_data"
    },
    {
     "data": {
      "application/vnd.jupyter.widget-view+json": {
       "model_id": "3302e4ab988749408a3836e97b932ff6",
       "version_major": 2,
       "version_minor": 0
      },
      "text/plain": [
       "Validation: |          | 0/? [00:00<?, ?it/s]"
      ]
     },
     "metadata": {},
     "output_type": "display_data"
    },
    {
     "data": {
      "application/vnd.jupyter.widget-view+json": {
       "model_id": "df31fdd62ef94c898932f5c226625ade",
       "version_major": 2,
       "version_minor": 0
      },
      "text/plain": [
       "Validation: |          | 0/? [00:00<?, ?it/s]"
      ]
     },
     "metadata": {},
     "output_type": "display_data"
    },
    {
     "data": {
      "application/vnd.jupyter.widget-view+json": {
       "model_id": "cfcb4b3e26d341f584092b27c31bec92",
       "version_major": 2,
       "version_minor": 0
      },
      "text/plain": [
       "Validation: |          | 0/? [00:00<?, ?it/s]"
      ]
     },
     "metadata": {},
     "output_type": "display_data"
    },
    {
     "data": {
      "application/vnd.jupyter.widget-view+json": {
       "model_id": "877ecc5838f347439acf5f5c8d33d353",
       "version_major": 2,
       "version_minor": 0
      },
      "text/plain": [
       "Validation: |          | 0/? [00:00<?, ?it/s]"
      ]
     },
     "metadata": {},
     "output_type": "display_data"
    },
    {
     "data": {
      "application/vnd.jupyter.widget-view+json": {
       "model_id": "40b5c6f3f0d348dbaa70989a2d4e441a",
       "version_major": 2,
       "version_minor": 0
      },
      "text/plain": [
       "Validation: |          | 0/? [00:00<?, ?it/s]"
      ]
     },
     "metadata": {},
     "output_type": "display_data"
    },
    {
     "data": {
      "application/vnd.jupyter.widget-view+json": {
       "model_id": "727224a26baf43dcbe2cb123ba5abd66",
       "version_major": 2,
       "version_minor": 0
      },
      "text/plain": [
       "Validation: |          | 0/? [00:00<?, ?it/s]"
      ]
     },
     "metadata": {},
     "output_type": "display_data"
    },
    {
     "data": {
      "application/vnd.jupyter.widget-view+json": {
       "model_id": "ff9f5a17bdc54453b211edd723707424",
       "version_major": 2,
       "version_minor": 0
      },
      "text/plain": [
       "Validation: |          | 0/? [00:00<?, ?it/s]"
      ]
     },
     "metadata": {},
     "output_type": "display_data"
    },
    {
     "data": {
      "application/vnd.jupyter.widget-view+json": {
       "model_id": "3b9d6af0ba9d4f4692d4675d976cd25d",
       "version_major": 2,
       "version_minor": 0
      },
      "text/plain": [
       "Validation: |          | 0/? [00:00<?, ?it/s]"
      ]
     },
     "metadata": {},
     "output_type": "display_data"
    },
    {
     "data": {
      "application/vnd.jupyter.widget-view+json": {
       "model_id": "28b01f61f5564183879708f652f328c2",
       "version_major": 2,
       "version_minor": 0
      },
      "text/plain": [
       "Validation: |          | 0/? [00:00<?, ?it/s]"
      ]
     },
     "metadata": {},
     "output_type": "display_data"
    },
    {
     "data": {
      "application/vnd.jupyter.widget-view+json": {
       "model_id": "6acc763c8e0742caa86a345c538a83a8",
       "version_major": 2,
       "version_minor": 0
      },
      "text/plain": [
       "Validation: |          | 0/? [00:00<?, ?it/s]"
      ]
     },
     "metadata": {},
     "output_type": "display_data"
    },
    {
     "data": {
      "application/vnd.jupyter.widget-view+json": {
       "model_id": "bde148666a0f4a18ad30f885c4c87800",
       "version_major": 2,
       "version_minor": 0
      },
      "text/plain": [
       "Validation: |          | 0/? [00:00<?, ?it/s]"
      ]
     },
     "metadata": {},
     "output_type": "display_data"
    },
    {
     "data": {
      "application/vnd.jupyter.widget-view+json": {
       "model_id": "4d4ff093abb241e38048971907f219f8",
       "version_major": 2,
       "version_minor": 0
      },
      "text/plain": [
       "Validation: |          | 0/? [00:00<?, ?it/s]"
      ]
     },
     "metadata": {},
     "output_type": "display_data"
    },
    {
     "data": {
      "application/vnd.jupyter.widget-view+json": {
       "model_id": "9540d33e6e12467f95880b096ea063b1",
       "version_major": 2,
       "version_minor": 0
      },
      "text/plain": [
       "Validation: |          | 0/? [00:00<?, ?it/s]"
      ]
     },
     "metadata": {},
     "output_type": "display_data"
    },
    {
     "data": {
      "application/vnd.jupyter.widget-view+json": {
       "model_id": "e9e1b9476c0f456fb67608924768625c",
       "version_major": 2,
       "version_minor": 0
      },
      "text/plain": [
       "Validation: |          | 0/? [00:00<?, ?it/s]"
      ]
     },
     "metadata": {},
     "output_type": "display_data"
    },
    {
     "data": {
      "application/vnd.jupyter.widget-view+json": {
       "model_id": "01a527faaac1403c83c66ce4c3d611e5",
       "version_major": 2,
       "version_minor": 0
      },
      "text/plain": [
       "Validation: |          | 0/? [00:00<?, ?it/s]"
      ]
     },
     "metadata": {},
     "output_type": "display_data"
    },
    {
     "data": {
      "application/vnd.jupyter.widget-view+json": {
       "model_id": "465d588f95354f8e964723255cc79299",
       "version_major": 2,
       "version_minor": 0
      },
      "text/plain": [
       "Validation: |          | 0/? [00:00<?, ?it/s]"
      ]
     },
     "metadata": {},
     "output_type": "display_data"
    },
    {
     "data": {
      "application/vnd.jupyter.widget-view+json": {
       "model_id": "a1f2b4d5f17640caaba7000fb14602ae",
       "version_major": 2,
       "version_minor": 0
      },
      "text/plain": [
       "Validation: |          | 0/? [00:00<?, ?it/s]"
      ]
     },
     "metadata": {},
     "output_type": "display_data"
    },
    {
     "data": {
      "application/vnd.jupyter.widget-view+json": {
       "model_id": "ef2958e333e242a8beaae61afa53a79d",
       "version_major": 2,
       "version_minor": 0
      },
      "text/plain": [
       "Validation: |          | 0/? [00:00<?, ?it/s]"
      ]
     },
     "metadata": {},
     "output_type": "display_data"
    },
    {
     "data": {
      "application/vnd.jupyter.widget-view+json": {
       "model_id": "ac022b2e399442f58a27a7a3256a4e42",
       "version_major": 2,
       "version_minor": 0
      },
      "text/plain": [
       "Validation: |          | 0/? [00:00<?, ?it/s]"
      ]
     },
     "metadata": {},
     "output_type": "display_data"
    },
    {
     "data": {
      "application/vnd.jupyter.widget-view+json": {
       "model_id": "aa9777fbdc2b42eeae5b49247a51c717",
       "version_major": 2,
       "version_minor": 0
      },
      "text/plain": [
       "Validation: |          | 0/? [00:00<?, ?it/s]"
      ]
     },
     "metadata": {},
     "output_type": "display_data"
    },
    {
     "data": {
      "application/vnd.jupyter.widget-view+json": {
       "model_id": "084b95a5852e4904857ab89ef69417fd",
       "version_major": 2,
       "version_minor": 0
      },
      "text/plain": [
       "Validation: |          | 0/? [00:00<?, ?it/s]"
      ]
     },
     "metadata": {},
     "output_type": "display_data"
    },
    {
     "data": {
      "application/vnd.jupyter.widget-view+json": {
       "model_id": "cf4391af8c2c48118fb3d926dba87c80",
       "version_major": 2,
       "version_minor": 0
      },
      "text/plain": [
       "Validation: |          | 0/? [00:00<?, ?it/s]"
      ]
     },
     "metadata": {},
     "output_type": "display_data"
    },
    {
     "data": {
      "application/vnd.jupyter.widget-view+json": {
       "model_id": "53e4677b129046ab99e54f53cf932cbc",
       "version_major": 2,
       "version_minor": 0
      },
      "text/plain": [
       "Validation: |          | 0/? [00:00<?, ?it/s]"
      ]
     },
     "metadata": {},
     "output_type": "display_data"
    },
    {
     "data": {
      "application/vnd.jupyter.widget-view+json": {
       "model_id": "14641ced93a443dda8612f8244c720e6",
       "version_major": 2,
       "version_minor": 0
      },
      "text/plain": [
       "Validation: |          | 0/? [00:00<?, ?it/s]"
      ]
     },
     "metadata": {},
     "output_type": "display_data"
    },
    {
     "data": {
      "application/vnd.jupyter.widget-view+json": {
       "model_id": "00ec48bcb053438d9d05f7c5ce258a4f",
       "version_major": 2,
       "version_minor": 0
      },
      "text/plain": [
       "Validation: |          | 0/? [00:00<?, ?it/s]"
      ]
     },
     "metadata": {},
     "output_type": "display_data"
    },
    {
     "data": {
      "application/vnd.jupyter.widget-view+json": {
       "model_id": "052c24c045cd4bff994d6aa1c4e6b049",
       "version_major": 2,
       "version_minor": 0
      },
      "text/plain": [
       "Validation: |          | 0/? [00:00<?, ?it/s]"
      ]
     },
     "metadata": {},
     "output_type": "display_data"
    },
    {
     "data": {
      "application/vnd.jupyter.widget-view+json": {
       "model_id": "ef20b7ac4aff4816ac471dddc4759a9b",
       "version_major": 2,
       "version_minor": 0
      },
      "text/plain": [
       "Validation: |          | 0/? [00:00<?, ?it/s]"
      ]
     },
     "metadata": {},
     "output_type": "display_data"
    },
    {
     "data": {
      "application/vnd.jupyter.widget-view+json": {
       "model_id": "73b6dfb85e2541cf8c9639ae45b824e8",
       "version_major": 2,
       "version_minor": 0
      },
      "text/plain": [
       "Validation: |          | 0/? [00:00<?, ?it/s]"
      ]
     },
     "metadata": {},
     "output_type": "display_data"
    },
    {
     "data": {
      "application/vnd.jupyter.widget-view+json": {
       "model_id": "6065e6581a27456b85e0701d68586cc1",
       "version_major": 2,
       "version_minor": 0
      },
      "text/plain": [
       "Validation: |          | 0/? [00:00<?, ?it/s]"
      ]
     },
     "metadata": {},
     "output_type": "display_data"
    },
    {
     "data": {
      "application/vnd.jupyter.widget-view+json": {
       "model_id": "6b9adaed59d14aa193f11029e7f260c3",
       "version_major": 2,
       "version_minor": 0
      },
      "text/plain": [
       "Validation: |          | 0/? [00:00<?, ?it/s]"
      ]
     },
     "metadata": {},
     "output_type": "display_data"
    },
    {
     "data": {
      "application/vnd.jupyter.widget-view+json": {
       "model_id": "15340d6c3dba48289f5a177eaf54ca97",
       "version_major": 2,
       "version_minor": 0
      },
      "text/plain": [
       "Validation: |          | 0/? [00:00<?, ?it/s]"
      ]
     },
     "metadata": {},
     "output_type": "display_data"
    },
    {
     "data": {
      "application/vnd.jupyter.widget-view+json": {
       "model_id": "b0dfa7f5e16c490d831fb7ebcedc60fb",
       "version_major": 2,
       "version_minor": 0
      },
      "text/plain": [
       "Validation: |          | 0/? [00:00<?, ?it/s]"
      ]
     },
     "metadata": {},
     "output_type": "display_data"
    },
    {
     "data": {
      "application/vnd.jupyter.widget-view+json": {
       "model_id": "0fc915df5fba47ac889afca9bc3b5dcc",
       "version_major": 2,
       "version_minor": 0
      },
      "text/plain": [
       "Validation: |          | 0/? [00:00<?, ?it/s]"
      ]
     },
     "metadata": {},
     "output_type": "display_data"
    },
    {
     "data": {
      "application/vnd.jupyter.widget-view+json": {
       "model_id": "5e8d6651fc0d406bae1a49095d0c4fdb",
       "version_major": 2,
       "version_minor": 0
      },
      "text/plain": [
       "Validation: |          | 0/? [00:00<?, ?it/s]"
      ]
     },
     "metadata": {},
     "output_type": "display_data"
    },
    {
     "data": {
      "application/vnd.jupyter.widget-view+json": {
       "model_id": "d9a69b3b27a04004ac38221a5bcad988",
       "version_major": 2,
       "version_minor": 0
      },
      "text/plain": [
       "Validation: |          | 0/? [00:00<?, ?it/s]"
      ]
     },
     "metadata": {},
     "output_type": "display_data"
    },
    {
     "data": {
      "application/vnd.jupyter.widget-view+json": {
       "model_id": "54f411a9ba274f6b9518287e4977c706",
       "version_major": 2,
       "version_minor": 0
      },
      "text/plain": [
       "Validation: |          | 0/? [00:00<?, ?it/s]"
      ]
     },
     "metadata": {},
     "output_type": "display_data"
    },
    {
     "data": {
      "application/vnd.jupyter.widget-view+json": {
       "model_id": "8296e90ada5d4f789ca0c7cc195b5883",
       "version_major": 2,
       "version_minor": 0
      },
      "text/plain": [
       "Validation: |          | 0/? [00:00<?, ?it/s]"
      ]
     },
     "metadata": {},
     "output_type": "display_data"
    },
    {
     "data": {
      "application/vnd.jupyter.widget-view+json": {
       "model_id": "839e9d12f8a44318bfdd44f5b67d126f",
       "version_major": 2,
       "version_minor": 0
      },
      "text/plain": [
       "Validation: |          | 0/? [00:00<?, ?it/s]"
      ]
     },
     "metadata": {},
     "output_type": "display_data"
    },
    {
     "data": {
      "application/vnd.jupyter.widget-view+json": {
       "model_id": "09b9dbfc1fb243eba8131514c9aab468",
       "version_major": 2,
       "version_minor": 0
      },
      "text/plain": [
       "Validation: |          | 0/? [00:00<?, ?it/s]"
      ]
     },
     "metadata": {},
     "output_type": "display_data"
    },
    {
     "data": {
      "application/vnd.jupyter.widget-view+json": {
       "model_id": "933bfa2c95714e1fbdfe5058e11a8780",
       "version_major": 2,
       "version_minor": 0
      },
      "text/plain": [
       "Validation: |          | 0/? [00:00<?, ?it/s]"
      ]
     },
     "metadata": {},
     "output_type": "display_data"
    },
    {
     "data": {
      "application/vnd.jupyter.widget-view+json": {
       "model_id": "3bb2f4fd8b35412eb0afbd437752886f",
       "version_major": 2,
       "version_minor": 0
      },
      "text/plain": [
       "Validation: |          | 0/? [00:00<?, ?it/s]"
      ]
     },
     "metadata": {},
     "output_type": "display_data"
    },
    {
     "data": {
      "application/vnd.jupyter.widget-view+json": {
       "model_id": "fe61ffe68ca347f39df0a47c9875ae4f",
       "version_major": 2,
       "version_minor": 0
      },
      "text/plain": [
       "Validation: |          | 0/? [00:00<?, ?it/s]"
      ]
     },
     "metadata": {},
     "output_type": "display_data"
    },
    {
     "data": {
      "application/vnd.jupyter.widget-view+json": {
       "model_id": "49a164f1309b4abe8ebc502870b475c3",
       "version_major": 2,
       "version_minor": 0
      },
      "text/plain": [
       "Validation: |          | 0/? [00:00<?, ?it/s]"
      ]
     },
     "metadata": {},
     "output_type": "display_data"
    },
    {
     "data": {
      "application/vnd.jupyter.widget-view+json": {
       "model_id": "1fdd50d9f9794cb0af7969dfbb9e475f",
       "version_major": 2,
       "version_minor": 0
      },
      "text/plain": [
       "Validation: |          | 0/? [00:00<?, ?it/s]"
      ]
     },
     "metadata": {},
     "output_type": "display_data"
    },
    {
     "data": {
      "application/vnd.jupyter.widget-view+json": {
       "model_id": "4177a3e785e848ec8bd3045cfedb371f",
       "version_major": 2,
       "version_minor": 0
      },
      "text/plain": [
       "Validation: |          | 0/? [00:00<?, ?it/s]"
      ]
     },
     "metadata": {},
     "output_type": "display_data"
    },
    {
     "data": {
      "application/vnd.jupyter.widget-view+json": {
       "model_id": "b55f17b7034348e9bc5a195605b07e42",
       "version_major": 2,
       "version_minor": 0
      },
      "text/plain": [
       "Validation: |          | 0/? [00:00<?, ?it/s]"
      ]
     },
     "metadata": {},
     "output_type": "display_data"
    },
    {
     "data": {
      "application/vnd.jupyter.widget-view+json": {
       "model_id": "c049600a3023436998a237d5facfb4f9",
       "version_major": 2,
       "version_minor": 0
      },
      "text/plain": [
       "Validation: |          | 0/? [00:00<?, ?it/s]"
      ]
     },
     "metadata": {},
     "output_type": "display_data"
    },
    {
     "data": {
      "application/vnd.jupyter.widget-view+json": {
       "model_id": "7c1e67b7fee949a99672dc22d285b63b",
       "version_major": 2,
       "version_minor": 0
      },
      "text/plain": [
       "Validation: |          | 0/? [00:00<?, ?it/s]"
      ]
     },
     "metadata": {},
     "output_type": "display_data"
    },
    {
     "data": {
      "application/vnd.jupyter.widget-view+json": {
       "model_id": "6851c1b7214a42df96391eb7320ec7bb",
       "version_major": 2,
       "version_minor": 0
      },
      "text/plain": [
       "Validation: |          | 0/? [00:00<?, ?it/s]"
      ]
     },
     "metadata": {},
     "output_type": "display_data"
    },
    {
     "data": {
      "application/vnd.jupyter.widget-view+json": {
       "model_id": "09956a02ba784d31904cdfe5f05c21a4",
       "version_major": 2,
       "version_minor": 0
      },
      "text/plain": [
       "Validation: |          | 0/? [00:00<?, ?it/s]"
      ]
     },
     "metadata": {},
     "output_type": "display_data"
    },
    {
     "data": {
      "application/vnd.jupyter.widget-view+json": {
       "model_id": "904bbb6d652141279e9cb359458f1392",
       "version_major": 2,
       "version_minor": 0
      },
      "text/plain": [
       "Validation: |          | 0/? [00:00<?, ?it/s]"
      ]
     },
     "metadata": {},
     "output_type": "display_data"
    },
    {
     "data": {
      "application/vnd.jupyter.widget-view+json": {
       "model_id": "7cfa7d6b30ae4d8f8f36d132387affb2",
       "version_major": 2,
       "version_minor": 0
      },
      "text/plain": [
       "Validation: |          | 0/? [00:00<?, ?it/s]"
      ]
     },
     "metadata": {},
     "output_type": "display_data"
    },
    {
     "data": {
      "application/vnd.jupyter.widget-view+json": {
       "model_id": "29d5605439bc4832a43bdd67c21c6afd",
       "version_major": 2,
       "version_minor": 0
      },
      "text/plain": [
       "Validation: |          | 0/? [00:00<?, ?it/s]"
      ]
     },
     "metadata": {},
     "output_type": "display_data"
    },
    {
     "data": {
      "application/vnd.jupyter.widget-view+json": {
       "model_id": "2f7b6bc5e16542998b54cb1dc5d6a2c8",
       "version_major": 2,
       "version_minor": 0
      },
      "text/plain": [
       "Validation: |          | 0/? [00:00<?, ?it/s]"
      ]
     },
     "metadata": {},
     "output_type": "display_data"
    },
    {
     "name": "stderr",
     "output_type": "stream",
     "text": [
      "`Trainer.fit` stopped: `max_epochs=100` reached.\n"
     ]
    }
   ],
   "source": [
    "trainer.fit(model, train_dataloader, val_dataloader)"
   ]
  },
  {
   "cell_type": "code",
   "execution_count": null,
   "metadata": {},
   "outputs": [],
   "source": [
    "for batch in train_dataloader:\n",
    "    model"
   ]
  },
  {
   "cell_type": "markdown",
   "metadata": {},
   "source": []
  },
  {
   "cell_type": "markdown",
   "metadata": {},
   "source": [
    "# Model Visualisation"
   ]
  },
  {
   "cell_type": "code",
   "execution_count": 171,
   "metadata": {},
   "outputs": [],
   "source": [
    "dataset = ProteinFamilyDataset(root = '../data').to_point().torch()"
   ]
  },
  {
   "cell_type": "code",
   "execution_count": 167,
   "metadata": {},
   "outputs": [
    {
     "data": {
      "text/plain": [
       "LitBasicVae(\n",
       "  (tanh): Tanh()\n",
       "  (soft): Softmax(dim=2)\n",
       "  (dropout_layer): Dropout(p=0, inplace=False)\n",
       "  (fc1_enc): Linear(in_features=10500, out_features=512, bias=True)\n",
       "  (fc3_enc_mean): Linear(in_features=512, out_features=128, bias=True)\n",
       "  (fc3_enc_logvar): Linear(in_features=512, out_features=128, bias=True)\n",
       "  (fc1_dec): Linear(in_features=128, out_features=512, bias=True)\n",
       "  (fc3_dec): Linear(in_features=512, out_features=10500, bias=True)\n",
       ")"
      ]
     },
     "execution_count": 167,
     "metadata": {},
     "output_type": "execute_result"
    }
   ],
   "source": [
    "# Load the trained model from checkpoint\n",
    "checkpoint_path = \"logs/lightning_logs/version_18/checkpoints/epoch=99-step=10200.ckpt\"\n",
    "model = LitBasicVae.load_from_checkpoint(checkpoint_path)\n",
    "\n",
    "# Put model in evaluation mode\n",
    "model.eval()\n"
   ]
  },
  {
   "cell_type": "code",
   "execution_count": 215,
   "metadata": {},
   "outputs": [
    {
     "data": {
      "text/plain": [
       "LitBasicVae(\n",
       "  (tanh): Tanh()\n",
       "  (soft): Softmax(dim=2)\n",
       "  (dropout_layer): Dropout(p=0, inplace=False)\n",
       "  (bn1): BatchNorm1d(512, eps=1e-05, momentum=0.1, affine=True, track_running_stats=True)\n",
       "  (fc1_enc): Linear(in_features=5250, out_features=512, bias=True)\n",
       "  (fc3_enc_mean): Linear(in_features=512, out_features=128, bias=True)\n",
       "  (fc3_enc_logvar): Linear(in_features=512, out_features=128, bias=True)\n",
       "  (fc1_dec): Linear(in_features=128, out_features=512, bias=True)\n",
       "  (fc3_dec): Linear(in_features=512, out_features=5250, bias=True)\n",
       ")"
      ]
     },
     "execution_count": 215,
     "metadata": {},
     "output_type": "execute_result"
    }
   ],
   "source": [
    "input = next(iter(train_dataloader))\n",
    "model.to('cpu')"
   ]
  },
  {
   "cell_type": "code",
   "execution_count": 384,
   "metadata": {},
   "outputs": [],
   "source": [
    "reparam_z, x_mu, x_logvar, x_rec, logit = model(next(iter(train_dataloader)))"
   ]
  },
  {
   "cell_type": "code",
   "execution_count": 385,
   "metadata": {},
   "outputs": [
    {
     "data": {
      "text/plain": [
       "torch.Size([250])"
      ]
     },
     "execution_count": 385,
     "metadata": {},
     "output_type": "execute_result"
    }
   ],
   "source": [
    "input[0].argmax(dim=-1).shape"
   ]
  },
  {
   "cell_type": "code",
   "execution_count": 386,
   "metadata": {},
   "outputs": [
    {
     "ename": "RuntimeError",
     "evalue": "The size of tensor a (400) must match the size of tensor b (250) at non-singleton dimension 0",
     "output_type": "error",
     "traceback": [
      "\u001b[0;31m---------------------------------------------------------------------------\u001b[0m",
      "\u001b[0;31mRuntimeError\u001b[0m                              Traceback (most recent call last)",
      "Cell \u001b[0;32mIn[386], line 1\u001b[0m\n\u001b[0;32m----> 1\u001b[0m \u001b[43mx_rec\u001b[49m\u001b[43m[\u001b[49m\u001b[38;5;241;43m0\u001b[39;49m\u001b[43m]\u001b[49m\u001b[38;5;241;43m.\u001b[39;49m\u001b[43margmax\u001b[49m\u001b[43m(\u001b[49m\u001b[43mdim\u001b[49m\u001b[38;5;241;43m=\u001b[39;49m\u001b[38;5;241;43m-\u001b[39;49m\u001b[38;5;241;43m1\u001b[39;49m\u001b[43m)\u001b[49m\u001b[43m \u001b[49m\u001b[38;5;241;43m==\u001b[39;49m\u001b[43m \u001b[49m\u001b[38;5;28;43minput\u001b[39;49m\u001b[43m[\u001b[49m\u001b[38;5;241;43m0\u001b[39;49m\u001b[43m]\u001b[49m\u001b[38;5;241;43m.\u001b[39;49m\u001b[43margmax\u001b[49m\u001b[43m(\u001b[49m\u001b[43mdim\u001b[49m\u001b[38;5;241;43m=\u001b[39;49m\u001b[38;5;241;43m-\u001b[39;49m\u001b[38;5;241;43m1\u001b[39;49m\u001b[43m)\u001b[49m\n",
      "\u001b[0;31mRuntimeError\u001b[0m: The size of tensor a (400) must match the size of tensor b (250) at non-singleton dimension 0"
     ]
    }
   ],
   "source": [
    "x_rec[0].argmax(dim=-1) == input[0].argmax(dim=-1)"
   ]
  },
  {
   "cell_type": "code",
   "execution_count": 118,
   "metadata": {},
   "outputs": [
    {
     "data": {
      "text/plain": [
       "tensor(921769.5625, grad_fn=<NllLoss2DBackward0>)"
      ]
     },
     "execution_count": 118,
     "metadata": {},
     "output_type": "execute_result"
    }
   ],
   "source": [
    "x_true_indices = input.argmax(dim=-1)\n",
    "torch.nn.functional.cross_entropy(logit.permute(0,2,1),x_true_indices, reduction='sum')"
   ]
  },
  {
   "cell_type": "code",
   "execution_count": 387,
   "metadata": {},
   "outputs": [
    {
     "name": "stderr",
     "output_type": "stream",
     "text": [
      "\n",
      "\u001b[A\n",
      "\u001b[A\n",
      "\u001b[A\n",
      "\u001b[A\n",
      "\u001b[A\n",
      "\u001b[A\n",
      "\u001b[A\n",
      "\u001b[A\n",
      "\u001b[A\n",
      "\u001b[A\n",
      "\u001b[A\n",
      "\u001b[A\n",
      "\u001b[A\n",
      "\u001b[A\n",
      "\u001b[A\n",
      "\u001b[A\n",
      "\u001b[A\n",
      "\u001b[A\n",
      "\u001b[A\n",
      "\u001b[A\n",
      "\u001b[A\n",
      "\u001b[A\n",
      "\u001b[A\n",
      "\u001b[A\n",
      "\u001b[A\n",
      "\u001b[A\n",
      "\u001b[A\n",
      "\u001b[A\n",
      "\u001b[A\n",
      "\u001b[A\n",
      "\u001b[A\n",
      "\u001b[A\n",
      "\u001b[A\n",
      "\u001b[A\n",
      "\u001b[A\n",
      "\u001b[A\n",
      "\u001b[A\n",
      "\u001b[A\n",
      "\u001b[A\n",
      "\u001b[A\n",
      "\u001b[A\n",
      "\u001b[A\n",
      "\u001b[A\n",
      "\u001b[A\n",
      "\u001b[A\n",
      "\u001b[A\n",
      "\u001b[A\n",
      "\u001b[A\n",
      "\u001b[A\n",
      "\u001b[A\n",
      "\u001b[A\n",
      "\u001b[A\n",
      "\u001b[A\n",
      "\u001b[A\n",
      "\u001b[A\n",
      "\u001b[A\n",
      "\u001b[A\n",
      "\u001b[A\n",
      "\u001b[A\n",
      "\u001b[A\n",
      "\u001b[A\n",
      "\u001b[A\n",
      "\u001b[A\n",
      "\u001b[A\n",
      "\u001b[A\n",
      "\u001b[A\n",
      "\u001b[A\n",
      "\u001b[A\n",
      "\u001b[A\n",
      "\u001b[A\n",
      "\u001b[A\n",
      "\u001b[A\n",
      "\u001b[A\n",
      "\u001b[A\n",
      "\u001b[A\n",
      "\u001b[A\n",
      "\u001b[A\n",
      "\u001b[A\n",
      "\u001b[A\n",
      "\u001b[A\n",
      "\u001b[A\n",
      "\u001b[A\n",
      "\u001b[A\n",
      "\u001b[A\n",
      "\u001b[A\n",
      "\u001b[A\n",
      "\u001b[A\n",
      "\u001b[A\n",
      "\u001b[A\n",
      "\u001b[A\n",
      "\u001b[A\n",
      "\u001b[A\n",
      "100%|██████████| 31109/31109 [00:09<00:00, 3275.90it/s]\n"
     ]
    }
   ],
   "source": [
    "seq_dataset = SequenceDataset(dataset, s, return_proteins=True)\n",
    "seq_dataloader = DataLoader(seq_dataset, batch_size= 256, shuffle = False)"
   ]
  },
  {
   "cell_type": "code",
   "execution_count": 388,
   "metadata": {},
   "outputs": [
    {
     "data": {
      "text/plain": [
       "'PF00102'"
      ]
     },
     "execution_count": 388,
     "metadata": {},
     "output_type": "execute_result"
    }
   ],
   "source": [
    "seq_dataset.org_protein_data[0][1]['protein']['Pfam'][0]"
   ]
  },
  {
   "cell_type": "code",
   "execution_count": 401,
   "metadata": {},
   "outputs": [],
   "source": [
    "lengths = [k[0].shape[0] for k in seq_dataset.org_protein_data]\n",
    "families = [k[1]['protein']['Pfam'][0] for k in seq_dataset.org_protein_data]"
   ]
  },
  {
   "cell_type": "code",
   "execution_count": 402,
   "metadata": {},
   "outputs": [
    {
     "data": {
      "text/plain": [
       "['PF00102',\n",
       " 'PF00034',\n",
       " 'PF00062',\n",
       " 'PF00180',\n",
       " 'PF00782',\n",
       " 'PF14575',\n",
       " 'PF00550',\n",
       " 'PF01709',\n",
       " 'PF00498',\n",
       " 'PF12799',\n",
       " 'PF00076',\n",
       " 'PF00158',\n",
       " 'PF00215',\n",
       " 'PF00293',\n",
       " 'PF13419',\n",
       " 'PF00419',\n",
       " 'PF16916',\n",
       " 'PF00579',\n",
       " 'PF00936',\n",
       " 'PF00377',\n",
       " 'PF01620',\n",
       " 'PF10421',\n",
       " 'PF01082',\n",
       " 'PF17384',\n",
       " 'PF07654',\n",
       " 'PF13649',\n",
       " 'PF01738',\n",
       " 'PF00622',\n",
       " 'PF13354',\n",
       " 'PF00856',\n",
       " 'PF01353',\n",
       " 'PF08715',\n",
       " 'PF00537',\n",
       " 'PF01288',\n",
       " 'PF05173',\n",
       " 'PF03414',\n",
       " 'PF00067',\n",
       " 'PF00565',\n",
       " 'PF00069',\n",
       " 'PF01083',\n",
       " 'PF00084',\n",
       " 'PF01522',\n",
       " 'PF00059',\n",
       " 'PF14028',\n",
       " 'PF00072',\n",
       " 'PF00571',\n",
       " 'PF17913',\n",
       " 'PF00959',\n",
       " 'PF00188',\n",
       " 'PF01353',\n",
       " 'PF01327',\n",
       " 'PF02567',\n",
       " 'PF00672',\n",
       " 'PF05908',\n",
       " 'PF17655',\n",
       " 'PF00413',\n",
       " 'PF02779',\n",
       " 'PF17936',\n",
       " 'PF01485',\n",
       " 'PF00907',\n",
       " 'PF01282',\n",
       " 'PF08460',\n",
       " 'PF07714',\n",
       " 'PF00258',\n",
       " 'PF00004',\n",
       " 'PF03283',\n",
       " 'PF00104',\n",
       " 'PF00535',\n",
       " 'PF17864',\n",
       " 'PF07726',\n",
       " 'PF16868',\n",
       " 'PF13243',\n",
       " 'PF01738',\n",
       " 'PF00233',\n",
       " 'PF00085',\n",
       " 'PF03344',\n",
       " 'PF16366',\n",
       " 'PF00337',\n",
       " 'PF09414',\n",
       " 'PF03414',\n",
       " 'PF00196',\n",
       " 'PF01395',\n",
       " 'PF01417',\n",
       " 'PF10955',\n",
       " 'PF04493',\n",
       " 'PF00975',\n",
       " 'PF13649',\n",
       " 'PF17515',\n",
       " 'PF00062',\n",
       " 'PF00240',\n",
       " 'PF07714',\n",
       " 'PF00127',\n",
       " 'PF01558',\n",
       " 'PF08709',\n",
       " 'PF17482',\n",
       " 'PF02353',\n",
       " 'PF02760',\n",
       " 'PF12105',\n",
       " 'PF00061',\n",
       " 'PF00018',\n",
       " 'PF18068',\n",
       " 'PF01346',\n",
       " 'PF00704',\n",
       " 'PF01180',\n",
       " 'PF01636',\n",
       " 'PF14947',\n",
       " 'PF01738',\n",
       " 'PF00067',\n",
       " 'PF02018',\n",
       " 'PF07714',\n",
       " 'PF08675',\n",
       " 'PF06369',\n",
       " 'PF13499',\n",
       " 'PF07677',\n",
       " 'PF02868',\n",
       " 'PF00234',\n",
       " 'PF04952',\n",
       " 'PF00905',\n",
       " 'PF00445',\n",
       " 'PF12946',\n",
       " 'PF14544',\n",
       " 'PF00994',\n",
       " 'PF00530',\n",
       " 'PF13354',\n",
       " 'PF00048',\n",
       " 'PF00632',\n",
       " 'PF06560',\n",
       " 'PF19977',\n",
       " 'PF00127',\n",
       " 'PF07238',\n",
       " 'PF00517',\n",
       " 'PF00651',\n",
       " 'PF02230',\n",
       " 'PF08240',\n",
       " 'PF00400',\n",
       " 'PF13426',\n",
       " 'PF01395',\n",
       " 'PF00854',\n",
       " 'PF13186',\n",
       " 'PF13458',\n",
       " 'PF01648',\n",
       " 'PF02518',\n",
       " 'PF01395',\n",
       " 'PF00878',\n",
       " 'PF00337',\n",
       " 'PF14853',\n",
       " 'PF00042',\n",
       " 'PF00104',\n",
       " 'PF00565',\n",
       " 'PF00075',\n",
       " 'PF00300',\n",
       " 'PF00505',\n",
       " 'PF00571',\n",
       " 'PF00160',\n",
       " 'PF09456',\n",
       " 'PF16739',\n",
       " 'PF18338',\n",
       " 'PF03167',\n",
       " 'PF08275',\n",
       " 'PF00962',\n",
       " 'PF00102',\n",
       " 'PF00537',\n",
       " 'PF00632',\n",
       " 'PF00579',\n",
       " 'PF00531',\n",
       " 'PF01416',\n",
       " 'PF05401',\n",
       " 'PF00531',\n",
       " 'PF00809',\n",
       " 'PF00102',\n",
       " 'PF12659',\n",
       " 'PF13088',\n",
       " 'PF18119',\n",
       " 'PF00034',\n",
       " 'PF00194',\n",
       " 'PF10185',\n",
       " 'PF00692',\n",
       " 'PF00682',\n",
       " 'PF00067',\n",
       " 'PF14522',\n",
       " 'PF01261',\n",
       " 'PF03861',\n",
       " 'PF12216',\n",
       " 'PF14575',\n",
       " 'PF00595',\n",
       " 'PF07361',\n",
       " 'PF00013',\n",
       " 'PF00419',\n",
       " 'PF07714',\n",
       " 'PF05770',\n",
       " 'PF02303',\n",
       " 'PF08282',\n",
       " 'PF00903',\n",
       " 'PF00722',\n",
       " 'PF08540',\n",
       " 'PF00531',\n",
       " 'PF00144',\n",
       " 'PF13426',\n",
       " 'PF01676',\n",
       " 'PF00314',\n",
       " 'PF00079',\n",
       " 'PF00571',\n",
       " 'PF00959',\n",
       " 'PF12804',\n",
       " 'PF07654',\n",
       " 'PF01653',\n",
       " 'PF11543',\n",
       " 'PF00551',\n",
       " 'PF08450',\n",
       " 'PF00014',\n",
       " 'PF00175',\n",
       " 'PF01370',\n",
       " 'PF14575',\n",
       " 'PF07647',\n",
       " 'PF07714',\n",
       " 'PF02685',\n",
       " 'PF00855',\n",
       " 'PF01216',\n",
       " 'PF01379',\n",
       " 'PF03573',\n",
       " 'PF00067',\n",
       " 'PF00195',\n",
       " 'PF00350',\n",
       " 'PF02060',\n",
       " 'PF00959',\n",
       " 'PF16511',\n",
       " 'PF00517',\n",
       " 'PF00012',\n",
       " 'PF13649',\n",
       " 'PF00144',\n",
       " 'PF00104',\n",
       " 'PF00069',\n",
       " 'PF02525',\n",
       " 'PF00018',\n",
       " 'PF00130',\n",
       " 'PF08241',\n",
       " 'PF11999',\n",
       " 'PF00977',\n",
       " 'PF18608',\n",
       " 'PF00155',\n",
       " 'PF04222',\n",
       " 'PF04362',\n",
       " 'PF08205',\n",
       " 'PF00909',\n",
       " 'PF00069',\n",
       " 'PF00793',\n",
       " 'PF02499',\n",
       " 'PF01341',\n",
       " 'PF00691',\n",
       " 'PF00545',\n",
       " 'PF13652',\n",
       " 'PF00615',\n",
       " 'PF00062',\n",
       " 'PF07714',\n",
       " 'PF12680',\n",
       " 'PF09827',\n",
       " 'PF00112',\n",
       " 'PF00104',\n",
       " 'PF00575',\n",
       " 'PF00062',\n",
       " 'PF01712',\n",
       " 'PF00215',\n",
       " 'PF13354',\n",
       " 'PF00062',\n",
       " 'PF00574',\n",
       " 'PF08282',\n",
       " 'PF13899',\n",
       " 'PF00270',\n",
       " 'PF11924',\n",
       " 'PF18374',\n",
       " 'PF00377',\n",
       " 'PF00017',\n",
       " 'PF01497',\n",
       " 'PF00497',\n",
       " 'PF07361',\n",
       " 'PF00619',\n",
       " 'PF00405',\n",
       " 'PF08418',\n",
       " 'PF03414',\n",
       " 'PF00440',\n",
       " 'PF01353',\n",
       " 'PF00194',\n",
       " 'PF00068',\n",
       " 'PF01134',\n",
       " 'PF19732',\n",
       " 'PF00595',\n",
       " 'PF02201',\n",
       " 'PF02179',\n",
       " 'PF04820',\n",
       " 'PF03974',\n",
       " 'PF01048',\n",
       " 'PF04545',\n",
       " 'PF00175',\n",
       " 'PF00857',\n",
       " 'PF00062',\n",
       " 'PF09380',\n",
       " 'PF07686',\n",
       " 'PF01989',\n",
       " 'PF18643',\n",
       " 'PF09511',\n",
       " 'PF17772',\n",
       " 'PF04314',\n",
       " 'PF00331',\n",
       " 'PF02991',\n",
       " 'PF01353',\n",
       " 'PF03201',\n",
       " 'PF17932',\n",
       " 'PF03860',\n",
       " 'PF00092',\n",
       " 'PF00959',\n",
       " 'PF00440',\n",
       " 'PF11546',\n",
       " 'PF00042',\n",
       " 'PF00406',\n",
       " 'PF00727',\n",
       " 'PF16916',\n",
       " 'PF00027',\n",
       " 'PF02834',\n",
       " 'PF13669',\n",
       " 'PF01884',\n",
       " 'PF13531',\n",
       " 'PF01341',\n",
       " 'PF02746',\n",
       " 'PF00723',\n",
       " 'PF07972',\n",
       " 'PF07732',\n",
       " 'PF01451',\n",
       " 'PF16916',\n",
       " 'PF00069',\n",
       " 'PF01722',\n",
       " 'PF00596',\n",
       " 'PF01501',\n",
       " 'PF00561',\n",
       " 'PF00959',\n",
       " 'PF08668',\n",
       " 'PF00724',\n",
       " 'PF00246',\n",
       " 'PF00316',\n",
       " 'PF12763',\n",
       " 'PF00186',\n",
       " 'PF00041',\n",
       " 'PF00069',\n",
       " 'PF00089',\n",
       " 'PF01369',\n",
       " 'PF00104',\n",
       " 'PF01261',\n",
       " 'PF09287',\n",
       " 'PF00056',\n",
       " 'PF00300',\n",
       " 'PF02661',\n",
       " 'PF02209',\n",
       " 'PF01371',\n",
       " 'PF00620',\n",
       " 'PF00239',\n",
       " 'PF00545',\n",
       " 'PF07679',\n",
       " 'PF00377',\n",
       " 'PF01243',\n",
       " 'PF07361',\n",
       " 'PF11485',\n",
       " 'PF07714',\n",
       " 'PF00565',\n",
       " 'PF09111',\n",
       " 'PF01883',\n",
       " 'PF00147',\n",
       " 'PF01670',\n",
       " 'PF07679',\n",
       " 'PF02469',\n",
       " 'PF00069',\n",
       " 'PF11477',\n",
       " 'PF00301',\n",
       " 'PF00071',\n",
       " 'PF00787',\n",
       " 'PF02645',\n",
       " 'PF00059',\n",
       " 'PF02911',\n",
       " 'PF00069',\n",
       " 'PF00050',\n",
       " 'PF03573',\n",
       " 'PF14520',\n",
       " 'PF03403',\n",
       " 'PF17408',\n",
       " 'PF05785',\n",
       " 'PF00692',\n",
       " 'PF05903',\n",
       " 'PF07679',\n",
       " 'PF00869',\n",
       " 'PF00536',\n",
       " 'PF11493',\n",
       " 'PF01590',\n",
       " 'PF00595',\n",
       " 'PF00571',\n",
       " 'PF03545',\n",
       " 'PF00139',\n",
       " 'PF00565',\n",
       " 'PF00708',\n",
       " 'PF00041',\n",
       " 'PF00074',\n",
       " 'PF00459',\n",
       " 'PF00112',\n",
       " 'PF08020',\n",
       " 'PF09629',\n",
       " 'PF09388',\n",
       " 'PF02940',\n",
       " 'PF03573',\n",
       " 'PF00179',\n",
       " 'PF00042',\n",
       " 'PF00179',\n",
       " 'PF00084',\n",
       " 'PF00944',\n",
       " 'PF05550',\n",
       " 'PF13673',\n",
       " 'PF00062',\n",
       " 'PF01269',\n",
       " 'PF16727',\n",
       " 'PF00173',\n",
       " 'PF00557',\n",
       " 'PF08787',\n",
       " 'PF00042',\n",
       " 'PF00753',\n",
       " 'PF00348',\n",
       " 'PF00505',\n",
       " 'PF18694',\n",
       " 'PF16190',\n",
       " 'PF00517',\n",
       " 'PF00754',\n",
       " 'PF13407',\n",
       " 'PF01322',\n",
       " 'PF18625',\n",
       " 'PF01382',\n",
       " 'PF10409',\n",
       " 'PF09025',\n",
       " 'PF13492',\n",
       " 'PF14011',\n",
       " 'PF18575',\n",
       " 'PF13460',\n",
       " 'PF00041',\n",
       " 'PF00959',\n",
       " 'PF01880',\n",
       " 'PF00498',\n",
       " 'PF00550',\n",
       " 'PF03067',\n",
       " 'PF07686',\n",
       " 'PF00909',\n",
       " 'PF01880',\n",
       " 'PF02875',\n",
       " 'PF03537',\n",
       " 'PF00194',\n",
       " 'PF00085',\n",
       " 'PF00039',\n",
       " 'PF01871',\n",
       " 'PF07714',\n",
       " 'PF03713',\n",
       " 'PF01590',\n",
       " 'PF02881',\n",
       " 'PF13354',\n",
       " 'PF02826',\n",
       " 'PF01167',\n",
       " 'PF01233',\n",
       " 'PF00619',\n",
       " 'PF09009',\n",
       " 'PF01753',\n",
       " 'PF00254',\n",
       " 'PF00403',\n",
       " 'PF00006',\n",
       " 'PF00293',\n",
       " 'PF08303',\n",
       " 'PF01088',\n",
       " 'PF00787',\n",
       " 'PF00303',\n",
       " 'PF00248',\n",
       " 'PF00139',\n",
       " 'PF00089',\n",
       " 'PF00809',\n",
       " 'PF01208',\n",
       " 'PF00884',\n",
       " 'PF04057',\n",
       " 'PF00490',\n",
       " 'PF06482',\n",
       " 'PF00452',\n",
       " 'PF07714',\n",
       " 'PF01023',\n",
       " 'PF00069',\n",
       " 'PF01353',\n",
       " 'PF00457',\n",
       " 'PF04729',\n",
       " 'PF09070',\n",
       " 'PF02201',\n",
       " 'PF04055',\n",
       " 'PF12436',\n",
       " 'PF01185',\n",
       " 'PF00959',\n",
       " 'PF02482',\n",
       " 'PF08423',\n",
       " 'PF01323',\n",
       " 'PF00062',\n",
       " 'PF13324',\n",
       " 'PF08263',\n",
       " 'PF00071',\n",
       " 'PF00576',\n",
       " 'PF00137',\n",
       " 'PF00303',\n",
       " 'PF08843',\n",
       " 'PF01627',\n",
       " 'PF00061',\n",
       " 'PF04200',\n",
       " 'PF01979',\n",
       " 'PF00548',\n",
       " 'PF12981',\n",
       " 'PF00048',\n",
       " 'PF09641',\n",
       " 'PF00026',\n",
       " 'PF03372',\n",
       " 'PF00403',\n",
       " 'PF07679',\n",
       " 'PF17978',\n",
       " 'PF00539',\n",
       " 'PF03885',\n",
       " 'PF00566',\n",
       " 'PF00059',\n",
       " 'PF00381',\n",
       " 'PF07679',\n",
       " 'PF16763',\n",
       " 'PF10390',\n",
       " 'PF00537',\n",
       " 'PF12804',\n",
       " 'PF00756',\n",
       " 'PF01353',\n",
       " 'PF00561',\n",
       " 'PF02891',\n",
       " 'PF03918',\n",
       " 'PF00462',\n",
       " 'PF00062',\n",
       " 'PF01565',\n",
       " 'PF03060',\n",
       " 'PF00254',\n",
       " 'PF06003',\n",
       " 'PF00501',\n",
       " 'PF04438',\n",
       " 'PF00400',\n",
       " 'PF02453',\n",
       " 'PF01979',\n",
       " 'PF07340',\n",
       " 'PF02774',\n",
       " 'PF03439',\n",
       " 'PF03126',\n",
       " 'PF05171',\n",
       " 'PF00294',\n",
       " 'PF00692',\n",
       " 'PF06321',\n",
       " 'PF01636',\n",
       " 'PF07714',\n",
       " 'PF16829',\n",
       " 'PF03372',\n",
       " 'PF01896',\n",
       " 'PF06500',\n",
       " 'PF00443',\n",
       " 'PF11507',\n",
       " 'PF00127',\n",
       " 'PF00765',\n",
       " 'PF00069',\n",
       " 'PF13490',\n",
       " 'PF00076',\n",
       " 'PF01467',\n",
       " 'PF04616',\n",
       " 'PF05362',\n",
       " 'PF13895',\n",
       " 'PF01382',\n",
       " 'PF00782',\n",
       " 'PF00595',\n",
       " 'PF00150',\n",
       " 'PF02330',\n",
       " 'PF00240',\n",
       " 'PF00062',\n",
       " 'PF00753',\n",
       " 'PF00005',\n",
       " 'PF13354',\n",
       " 'PF00550',\n",
       " 'PF00072',\n",
       " 'PF00143',\n",
       " 'PF13499',\n",
       " 'PF00085',\n",
       " 'PF00850',\n",
       " 'PF00041',\n",
       " 'PF01353',\n",
       " 'PF00062',\n",
       " 'PF00041',\n",
       " 'PF13714',\n",
       " 'PF01832',\n",
       " 'PF08869',\n",
       " 'PF01312',\n",
       " 'PF00042',\n",
       " 'PF00643',\n",
       " 'PF00150',\n",
       " 'PF01382',\n",
       " 'PF00069',\n",
       " 'PF00628',\n",
       " 'PF01895',\n",
       " 'PF05737',\n",
       " 'PF07100',\n",
       " 'PF00293',\n",
       " 'PF00041',\n",
       " 'PF00017',\n",
       " 'PF07714',\n",
       " 'PF03551',\n",
       " 'PF00388',\n",
       " 'PF04231',\n",
       " 'PF11953',\n",
       " 'PF12900',\n",
       " 'PF00644',\n",
       " 'PF01702',\n",
       " 'PF00061',\n",
       " 'PF00147',\n",
       " 'PF02429',\n",
       " 'PF00754',\n",
       " 'PF00419',\n",
       " 'PF05108',\n",
       " 'PF00248',\n",
       " 'PF00373',\n",
       " 'PF00240',\n",
       " 'PF08787',\n",
       " 'PF07244',\n",
       " 'PF02518',\n",
       " 'PF16953',\n",
       " 'PF07686',\n",
       " 'PF02518',\n",
       " 'PF03781',\n",
       " 'PF00240',\n",
       " 'PF00246',\n",
       " 'PF13450',\n",
       " 'PF01353',\n",
       " 'PF01323',\n",
       " 'PF00027',\n",
       " 'PF00959',\n",
       " 'PF08423',\n",
       " 'PF00014',\n",
       " 'PF00433',\n",
       " 'PF00069',\n",
       " 'PF02086',\n",
       " 'PF00143',\n",
       " 'PF13460',\n",
       " 'PF03013',\n",
       " 'PF03403',\n",
       " 'PF00229',\n",
       " 'PF08951',\n",
       " 'PF00551',\n",
       " 'PF00048',\n",
       " 'PF00161',\n",
       " 'PF00175',\n",
       " 'PF00052',\n",
       " 'PF00697',\n",
       " 'PF00018',\n",
       " 'PF00182',\n",
       " 'PF03331',\n",
       " 'PF00106',\n",
       " 'PF00198',\n",
       " 'PF00018',\n",
       " 'PF00354',\n",
       " 'PF00433',\n",
       " 'PF02177',\n",
       " 'PF03330',\n",
       " 'PF07191',\n",
       " 'PF01297',\n",
       " 'PF04072',\n",
       " 'PF08191',\n",
       " 'PF00581',\n",
       " 'PF00403',\n",
       " 'PF00355',\n",
       " 'PF00271',\n",
       " 'PF00240',\n",
       " 'PF12900',\n",
       " 'PF08446',\n",
       " 'PF00439',\n",
       " 'PF02597',\n",
       " 'PF00067',\n",
       " 'PF00082',\n",
       " 'PF00293',\n",
       " 'PF09588',\n",
       " 'PF00628',\n",
       " 'PF00679',\n",
       " 'PF07714',\n",
       " 'PF05207',\n",
       " 'PF00994',\n",
       " 'PF02743',\n",
       " 'PF00071',\n",
       " 'PF00994',\n",
       " 'PF00565',\n",
       " 'PF00438',\n",
       " 'PF02525',\n",
       " 'PF06560',\n",
       " 'PF16916',\n",
       " 'PF00051',\n",
       " 'PF00071',\n",
       " 'PF00435',\n",
       " 'PF02932',\n",
       " 'PF01979',\n",
       " 'PF05721',\n",
       " 'PF03331',\n",
       " 'PF00240',\n",
       " 'PF13354',\n",
       " 'PF01048',\n",
       " 'PF14559',\n",
       " 'PF00293',\n",
       " 'PF11895',\n",
       " 'PF01408',\n",
       " 'PF01582',\n",
       " 'PF02586',\n",
       " 'PF01161',\n",
       " 'PF01479',\n",
       " 'PF00004',\n",
       " 'PF13944',\n",
       " 'PF02747',\n",
       " 'PF01124',\n",
       " 'PF00407',\n",
       " 'PF02881',\n",
       " 'PF00026',\n",
       " 'PF03330',\n",
       " 'PF00656',\n",
       " 'PF07968',\n",
       " 'PF01501',\n",
       " 'PF00009',\n",
       " 'PF00378',\n",
       " 'PF00026',\n",
       " 'PF00595',\n",
       " 'PF00469',\n",
       " 'PF00179',\n",
       " 'PF02087',\n",
       " 'PF13354',\n",
       " 'PF08100',\n",
       " 'PF00557',\n",
       " 'PF12296',\n",
       " 'PF17996',\n",
       " 'PF03349',\n",
       " 'PF00062',\n",
       " 'PF00307',\n",
       " 'PF08416',\n",
       " 'PF00089',\n",
       " 'PF02201',\n",
       " 'PF00230',\n",
       " 'PF01753',\n",
       " 'PF01353',\n",
       " 'PF00084',\n",
       " 'PF00155',\n",
       " 'PF02250',\n",
       " 'PF03960',\n",
       " 'PF00687',\n",
       " 'PF00959',\n",
       " 'PF13091',\n",
       " 'PF03496',\n",
       " 'PF00061',\n",
       " 'PF13614',\n",
       " 'PF15410',\n",
       " 'PF00400',\n",
       " 'PF02216',\n",
       " 'PF00089',\n",
       " 'PF00959',\n",
       " 'PF00561',\n",
       " 'PF03126',\n",
       " 'PF02758',\n",
       " 'PF00856',\n",
       " 'PF00550',\n",
       " 'PF01218',\n",
       " 'PF00106',\n",
       " 'PF19199',\n",
       " 'PF01661',\n",
       " 'PF13499',\n",
       " 'PF00486',\n",
       " 'PF00121',\n",
       " 'PF13578',\n",
       " 'PF13530',\n",
       " 'PF07501',\n",
       " 'PF01379',\n",
       " 'PF01382',\n",
       " 'PF13833',\n",
       " 'PF03685',\n",
       " 'PF03781',\n",
       " 'PF00012',\n",
       " 'PF00579',\n",
       " 'PF00069',\n",
       " 'PF01391',\n",
       " 'PF08363',\n",
       " 'PF01353',\n",
       " 'PF02567',\n",
       " 'PF00082',\n",
       " 'PF00565',\n",
       " 'PF08282',\n",
       " 'PF13378',\n",
       " 'PF13561',\n",
       " 'PF03009',\n",
       " 'PF03480',\n",
       " 'PF13895',\n",
       " 'PF07684',\n",
       " 'PF04059',\n",
       " 'PF06001',\n",
       " 'PF01035',\n",
       " 'PF06745',\n",
       " 'PF00089',\n",
       " 'PF18500',\n",
       " 'PF02954',\n",
       " 'PF00696',\n",
       " 'PF01522',\n",
       " 'PF00403',\n",
       " 'PF03816',\n",
       " 'PF00215',\n",
       " 'PF02826',\n",
       " 'PF01252',\n",
       " 'PF01442',\n",
       " 'PF11790',\n",
       " 'PF01702',\n",
       " 'PF00753',\n",
       " 'PF00139',\n",
       " 'PF10185',\n",
       " 'PF00787',\n",
       " 'PF00561',\n",
       " 'PF01353',\n",
       " 'PF03556',\n",
       " 'PF00869',\n",
       " 'PF00012',\n",
       " 'PF01738',\n",
       " 'PF15731',\n",
       " 'PF02747',\n",
       " 'PF01353',\n",
       " 'PF02429',\n",
       " 'PF17836',\n",
       " 'PF01244',\n",
       " 'PF05254',\n",
       " 'PF01070',\n",
       " 'PF08279',\n",
       " 'PF00062',\n",
       " 'PF01633',\n",
       " 'PF00639',\n",
       " 'PF11953',\n",
       " 'PF13561',\n",
       " 'PF03253',\n",
       " 'PF00194',\n",
       " 'PF00304',\n",
       " 'PF00104',\n",
       " 'PF00240',\n",
       " 'PF00296',\n",
       " 'PF07361',\n",
       " 'PF00112',\n",
       " 'PF02847',\n",
       " 'PF00753',\n",
       " 'PF00403',\n",
       " 'PF00186',\n",
       " 'PF18104',\n",
       " 'PF01436',\n",
       " 'PF00381',\n",
       " 'PF07714',\n",
       " 'PF00160',\n",
       " 'PF01270',\n",
       " 'PF14865',\n",
       " 'PF00023',\n",
       " 'PF07679',\n",
       " 'PF09349',\n",
       " 'PF04278',\n",
       " 'PF00072',\n",
       " 'PF00076',\n",
       " 'PF00168',\n",
       " 'PF05550',\n",
       " 'PF00248',\n",
       " 'PF00334',\n",
       " 'PF02769',\n",
       " 'PF01156',\n",
       " 'PF00089',\n",
       " 'PF01424',\n",
       " 'PF08541',\n",
       " 'PF07654',\n",
       " 'PF00197',\n",
       " 'PF12680',\n",
       " 'PF09006',\n",
       " 'PF13407',\n",
       " 'PF13855',\n",
       " 'PF01504',\n",
       " 'PF01128',\n",
       " 'PF04137',\n",
       " 'PF01297',\n",
       " 'PF12389',\n",
       " 'PF00569',\n",
       " 'PF00036',\n",
       " 'PF02746',\n",
       " 'PF00045',\n",
       " 'PF00076',\n",
       " 'PF03544',\n",
       " 'PF00024',\n",
       " 'PF06052',\n",
       " 'PF00337',\n",
       " 'PF13365',\n",
       " 'PF00018',\n",
       " 'PF00089',\n",
       " 'PF01353',\n",
       " 'PF00027',\n",
       " 'PF00194',\n",
       " 'PF03114',\n",
       " 'PF03480',\n",
       " 'PF01382',\n",
       " 'PF00698',\n",
       " 'PF01083',\n",
       " 'PF00062',\n",
       " 'PF18677',\n",
       " 'PF00121',\n",
       " 'PF00089',\n",
       " 'PF01764',\n",
       " 'PF00536',\n",
       " 'PF00098',\n",
       " 'PF07654',\n",
       " 'PF00595',\n",
       " 'PF02126',\n",
       " 'PF00096',\n",
       " 'PF00028',\n",
       " 'PF02907',\n",
       " 'PF01035',\n",
       " 'PF02544',\n",
       " 'PF00959',\n",
       " 'PF00565',\n",
       " 'PF00607',\n",
       " 'PF13302',\n",
       " 'PF13654',\n",
       " 'PF02907',\n",
       " 'PF08807',\n",
       " 'PF19259',\n",
       " 'PF00075',\n",
       " 'PF00254',\n",
       " 'PF00076',\n",
       " 'PF03060',\n",
       " 'PF01243',\n",
       " 'PF01302',\n",
       " 'PF00215',\n",
       " 'PF00026',\n",
       " 'PF00111',\n",
       " 'PF11953',\n",
       " 'PF00127',\n",
       " 'PF00789',\n",
       " 'PF00754',\n",
       " 'PF02615',\n",
       " 'PF02163',\n",
       " 'PF00225',\n",
       " 'PF00076',\n",
       " 'PF02224',\n",
       " 'PF00639',\n",
       " 'PF00301',\n",
       " 'PF00069',\n",
       " 'PF01259',\n",
       " 'PF00233',\n",
       " 'PF12680',\n",
       " 'PF10613',\n",
       " 'PF01885',\n",
       " 'PF00076',\n",
       " 'PF00046',\n",
       " 'PF00031',\n",
       " 'PF00190',\n",
       " 'PF12331',\n",
       " 'PF04777',\n",
       " 'PF08369',\n",
       " 'PF00141',\n",
       " 'PF00085',\n",
       " 'PF00017',\n",
       " 'PF13354',\n",
       " 'PF00185',\n",
       " 'PF05995',\n",
       " 'PF11953',\n",
       " 'PF00942',\n",
       " 'PF18281',\n",
       " 'PF02180',\n",
       " 'PF03984',\n",
       " 'PF00628',\n",
       " 'PF13406',\n",
       " 'PF07091',\n",
       " 'PF00018',\n",
       " 'PF06905',\n",
       " 'PF10636',\n",
       " 'PF00104',\n",
       " 'PF00595',\n",
       " 'PF04023',\n",
       " 'PF01592',\n",
       " 'PF07654',\n",
       " 'PF00707',\n",
       " 'PF00067',\n",
       " 'PF14890',\n",
       " 'PF00754',\n",
       " 'PF01083',\n",
       " 'PF00190',\n",
       " 'PF00820',\n",
       " 'PF00215',\n",
       " 'PF01761',\n",
       " 'PF00071',\n",
       " 'PF07688',\n",
       " 'PF00692',\n",
       " 'PF00076',\n",
       " 'PF01201',\n",
       " 'PF10093',\n",
       " 'PF00511',\n",
       " 'PF05612',\n",
       " 'PF00457',\n",
       " 'PF12864',\n",
       " 'PF01002',\n",
       " 'PF00793',\n",
       " 'PF02126',\n",
       " 'PF00096',\n",
       " 'PF01183',\n",
       " ...]"
      ]
     },
     "execution_count": 402,
     "metadata": {},
     "output_type": "execute_result"
    }
   ],
   "source": [
    "families"
   ]
  },
  {
   "cell_type": "code",
   "execution_count": 391,
   "metadata": {},
   "outputs": [
    {
     "data": {
      "text/plain": [
       "LitBasicVae(\n",
       "  (tanh): Tanh()\n",
       "  (soft): Softmax(dim=2)\n",
       "  (dropout_layer): Dropout(p=0.0, inplace=False)\n",
       "  (fc1_enc): Linear(in_features=8400, out_features=256, bias=True)\n",
       "  (bn1): BatchNorm1d(256, eps=1e-05, momentum=0.1, affine=True, track_running_stats=True)\n",
       "  (fc3_enc_mean): Linear(in_features=256, out_features=64, bias=True)\n",
       "  (fc3_enc_logvar): Linear(in_features=256, out_features=64, bias=True)\n",
       "  (fc1_dec): Linear(in_features=64, out_features=256, bias=True)\n",
       "  (bn2): BatchNorm1d(256, eps=1e-05, momentum=0.1, affine=True, track_running_stats=True)\n",
       "  (fc3_dec): Linear(in_features=256, out_features=8400, bias=True)\n",
       "  (bn3): BatchNorm1d(8400, eps=1e-05, momentum=0.1, affine=True, track_running_stats=True)\n",
       ")"
      ]
     },
     "execution_count": 391,
     "metadata": {},
     "output_type": "execute_result"
    }
   ],
   "source": [
    "if torch.cuda.is_available():\n",
    "    torch.cuda.current_device()\n",
    "device = torch.device(\"cuda:0\" if torch.cuda.is_available() else \"cpu\")\n",
    "model.to(device)"
   ]
  },
  {
   "cell_type": "code",
   "execution_count": 392,
   "metadata": {},
   "outputs": [],
   "source": [
    "labels = []\n",
    "latent_coord = []\n",
    "model.eval()\n",
    "total_samples = []\n",
    "for batch_i, batch in enumerate(seq_dataloader):\n",
    "    # print(batch.shape)\n",
    "    # labels.append(batch[1].to('cpu').numpy())\n",
    "    rep_z, x_mu, x_logvar, x_rec, logit = model(batch)\n",
    "    total_samples.append(x_mu.shape[0])\n",
    "    latent_coord.append(x_mu.detach().numpy())\n",
    "# labels = np.concatenate(labels)``\n",
    "latent_coord = np.concatenate(latent_coord, axis = 0)"
   ]
  },
  {
   "cell_type": "code",
   "execution_count": 393,
   "metadata": {},
   "outputs": [],
   "source": [
    "U, S, V = torch.pca_lowrank(torch.tensor(latent_coord), q=None, center=True, niter=2)"
   ]
  },
  {
   "cell_type": "code",
   "execution_count": 394,
   "metadata": {},
   "outputs": [],
   "source": [
    "projected_data = torch.matmul(torch.tensor(latent_coord), V[:, :2]) "
   ]
  },
  {
   "cell_type": "code",
   "execution_count": 395,
   "metadata": {},
   "outputs": [
    {
     "data": {
      "text/plain": [
       "(24936, 64)"
      ]
     },
     "execution_count": 395,
     "metadata": {},
     "output_type": "execute_result"
    }
   ],
   "source": [
    "latent_coord.shape"
   ]
  },
  {
   "cell_type": "code",
   "execution_count": 396,
   "metadata": {},
   "outputs": [
    {
     "data": {
      "text/plain": [
       "torch.Size([24936, 2])"
      ]
     },
     "execution_count": 396,
     "metadata": {},
     "output_type": "execute_result"
    }
   ],
   "source": [
    "projected_data.shape"
   ]
  },
  {
   "cell_type": "code",
   "execution_count": 397,
   "metadata": {},
   "outputs": [
    {
     "data": {
      "image/png": "[encoded data removed]",
      "text/plain": [
       "<Figure size 640x480 with 2 Axes>"
      ]
     },
     "metadata": {},
     "output_type": "display_data"
    }
   ],
   "source": [
    "import matplotlib.pyplot as plt\n",
    "plt.scatter(projected_data[:, 0], projected_data[:, 1], s = 2, c=lengths, cmap='viridis')\n",
    "plt.colorbar(label = 'Protein Length')\n",
    "plt.title('Latent Dim: 64, Projected with PCA, Protein Family Dataset, Beta = 1')\n",
    "plt.savefig(\"exp_1_latent_Pfam.png\")"
   ]
  },
  {
   "cell_type": "code",
   "execution_count": 399,
   "metadata": {},
   "outputs": [
    {
     "data": {
      "text/plain": [
       "torch.Size([24936, 2])"
      ]
     },
     "execution_count": 399,
     "metadata": {},
     "output_type": "execute_result"
    }
   ],
   "source": [
    "projected_data.shape"
   ]
  },
  {
   "cell_type": "code",
   "execution_count": 403,
   "metadata": {},
   "outputs": [
    {
     "name": "stdout",
     "output_type": "stream",
     "text": [
      "The most common protein family is: PF00069\n"
     ]
    },
    {
     "data": {
      "image/png": "[encoded data removed]",
      "text/plain": [
       "<Figure size 640x480 with 2 Axes>"
      ]
     },
     "metadata": {},
     "output_type": "display_data"
    }
   ],
   "source": [
    "from collections import Counter\n",
    "# Example list of strings\n",
    "protein_families = families\n",
    "# Count occurrences of each element\n",
    "counter = Counter(protein_families)\n",
    "\n",
    "# Get the most common element (returns a list of tuples (element, count))\n",
    "most_common = counter.most_common(1)\n",
    "\n",
    "# Extract the most common string\n",
    "if most_common:\n",
    "    most_common_string = most_common[0][0]  # The string of the most common element\n",
    "else:\n",
    "    most_common_string = None\n",
    "\n",
    "print(f\"The most common protein family is: {most_common_string}\")\n",
    "\n",
    "family_array = np.array(families)\n",
    "most_common_indices = np.where((family_array == most_common_string) == 1)\n",
    "most_common_points = projected_data[most_common_indices, :]\n",
    "\n",
    "plt.scatter(projected_data[:, 0], projected_data[:, 1], s = 2)\n",
    "plt.scatter(most_common_points.squeeze()[:, 0], most_common_points.squeeze()[:, 1], s = 4, c='r')\n",
    "\n",
    "plt.colorbar(label = 'Protein Length')\n",
    "plt.title('Latent Dim: 64, Projected with PCA, Protein Family Dataset, Beta = 1')\n",
    "plt.savefig(\"exp_1_latent_Pfam.png\")"
   ]
  },
  {
   "cell_type": "code",
   "execution_count": null,
   "metadata": {},
   "outputs": [],
   "source": []
  }
 ],
 "metadata": {
  "kernelspec": {
   "display_name": "ProteinManifoldLearning",
   "language": "python",
   "name": "python3"
  },
  "language_info": {
   "codemirror_mode": {
    "name": "ipython",
    "version": 3
   },
   "file_extension": ".py",
   "mimetype": "text/x-python",
   "name": "python",
   "nbconvert_exporter": "python",
   "pygments_lexer": "ipython3",
   "version": "3.10.16"
  }
 },
 "nbformat": 4,
 "nbformat_minor": 2
}
