{
 "cells": [
  {
   "cell_type": "code",
   "execution_count": 75,
   "metadata": {},
   "outputs": [
    {
     "name": "stdout",
     "output_type": "stream",
     "text": [
      "The autoreload extension is already loaded. To reload it, use:\n",
      "  %reload_ext autoreload\n"
     ]
    }
   ],
   "source": [
    "import torch \n",
    "import torch.nn as nn\n",
    "import os \n",
    "import sys\n",
    "# Get the absolute path of the project root\n",
    "project_root = os.path.abspath(\"..\")  # Adjust if needed\n",
    "\n",
    "# Add the project root to sys.path\n",
    "if project_root not in sys.path:\n",
    "    sys.path.append(project_root)\n",
    "\n",
    "from proteinshake.datasets import ProteinLigandInterfaceDataset\n",
    "from src.utils import data_utils as dtu\n",
    "from torch.utils.data import DataLoader, Dataset\n",
    "from src.models.mnist_vae import basic_vae\n",
    "import numpy as np\n",
    "from src.datasetClasses.sequenceDataset import *\n",
    "%load_ext autoreload\n",
    "%autoreload 2"
   ]
  },
  {
   "cell_type": "code",
   "execution_count": 2,
   "metadata": {},
   "outputs": [],
   "source": [
    "dataset = ProteinLigandInterfaceDataset(root='../data').to_point().torch()"
   ]
  },
  {
   "cell_type": "code",
   "execution_count": 24,
   "metadata": {},
   "outputs": [
    {
     "data": {
      "text/plain": [
       "4642"
      ]
     },
     "execution_count": 24,
     "metadata": {},
     "output_type": "execute_result"
    }
   ],
   "source": [
    "# Initial testing to be done with proteins less than or equal to 150 residues in length\n",
    "max_seq_length = dtu.get_max_seq_len(dataset)\n",
    "seq_lengths = dtu.get_dataset_seq_lengths(dataset,leq = max_seq_length)\n",
    "total_num = sum(seq_lengths.values())\n",
    "total_num"
   ]
  },
  {
   "cell_type": "code",
   "execution_count": 98,
   "metadata": {},
   "outputs": [],
   "source": [
    "def ELBO(x, x_hat,x_mu, x_logvar):\n",
    "\n",
    "    rec_loss =  torch.nn.functional.mse_loss(x_hat, x, reduction='sum')\n",
    "    KL_loss = -0.5 * torch.sum(1 + x_logvar - x_mu.pow(2) - x_logvar.exp())\n",
    "\n",
    "    return (rec_loss + KL_loss) / x.size(0) "
   ]
  },
  {
   "cell_type": "code",
   "execution_count": 96,
   "metadata": {},
   "outputs": [],
   "source": [
    "latent_dim = 256\n",
    "epochs = 100\n",
    "lr = 0.001\n",
    "batch_size = 64\n",
    "seq_test_data = SequenceDataset(dataset)\n",
    "seq_dataloader = DataLoader(seq_test_data, batch_size=batch_size, shuffle=False)\n",
    "x_dim = seq_test_data[0].shape[0]\n",
    "if torch.cuda.is_available():\n",
    "    torch.cuda.current_device()\n",
    "device = torch.device(\"cuda:0\" if torch.cuda.is_available() else \"cpu\")"
   ]
  },
  {
   "cell_type": "code",
   "execution_count": 95,
   "metadata": {},
   "outputs": [],
   "source": [
    "model = basic_vae(latent_dim, x_dim, device).to(device)\n",
    "model_optim = torch.optim.Adam(params=model.parameters(), lr=lr)"
   ]
  },
  {
   "cell_type": "code",
   "execution_count": 99,
   "metadata": {},
   "outputs": [
    {
     "name": "stdout",
     "output_type": "stream",
     "text": [
      "Epoch 0 Loss: 8805.857168537297\n",
      "Epoch 1 Loss: 573.4133238073898\n",
      "Epoch 2 Loss: 486.7336163455493\n",
      "Epoch 3 Loss: 448.12906897557923\n",
      "Epoch 4 Loss: 427.8821528186537\n",
      "Epoch 5 Loss: 425.5512349899501\n",
      "Epoch 6 Loss: 1031.3734661781625\n",
      "Epoch 7 Loss: 448.97540769185105\n",
      "Epoch 8 Loss: 407.24881456976067\n",
      "Epoch 9 Loss: 514.6150695591757\n",
      "Epoch 10 Loss: 382.69239195732223\n",
      "Epoch 11 Loss: 367.11851961318763\n",
      "Epoch 12 Loss: 368.1743119644792\n",
      "Epoch 13 Loss: 353.2147185443199\n",
      "Epoch 14 Loss: 339.25786250911347\n",
      "Epoch 15 Loss: 376.5941721249933\n",
      "Epoch 16 Loss: 332.3824231918544\n",
      "Epoch 17 Loss: 336.3386949513056\n",
      "Epoch 18 Loss: 298.5822531817711\n",
      "Epoch 19 Loss: 282.57972617998513\n",
      "Epoch 20 Loss: 281.8378340838707\n",
      "Epoch 21 Loss: 360.15298825094146\n",
      "Epoch 22 Loss: 2382.794402396842\n",
      "Epoch 23 Loss: 542.9460882422043\n",
      "Epoch 24 Loss: 308.50129427975173\n",
      "Epoch 25 Loss: 277.3441021017832\n",
      "Epoch 26 Loss: 264.69404899910705\n",
      "Epoch 27 Loss: 258.6429685827804\n",
      "Epoch 28 Loss: 244.99498798422619\n",
      "Epoch 29 Loss: 245.98766264196945\n",
      "Epoch 30 Loss: 299.96424915365975\n",
      "Epoch 31 Loss: 3160.647018275849\n",
      "Epoch 32 Loss: 245.5950748234579\n",
      "Epoch 33 Loss: 246.16315569942944\n",
      "Epoch 34 Loss: 236.4380635823289\n",
      "Epoch 35 Loss: 240.06185416652733\n",
      "Epoch 36 Loss: 247.13829084945053\n",
      "Epoch 37 Loss: 226.75396381012382\n",
      "Epoch 38 Loss: 216.94485133967987\n",
      "Epoch 39 Loss: 214.7404137180276\n",
      "Epoch 40 Loss: 228.3484288045805\n",
      "Epoch 41 Loss: 207.1087346011645\n",
      "Epoch 42 Loss: 212.94231461825436\n",
      "Epoch 43 Loss: 323.84905676645775\n",
      "Epoch 44 Loss: 727699.9006998246\n",
      "Epoch 45 Loss: 280.23634100613526\n",
      "Epoch 46 Loss: 612.6864368752257\n",
      "Epoch 47 Loss: 350.0478078241218\n",
      "Epoch 48 Loss: 260.79058837890625\n",
      "Epoch 49 Loss: 269.37956582683404\n",
      "Epoch 50 Loss: 228.60433662101013\n",
      "Epoch 51 Loss: 229.67129218741638\n",
      "Epoch 52 Loss: 201.03581405012574\n",
      "Epoch 53 Loss: 195.2167573954961\n",
      "Epoch 54 Loss: 193.85770552125695\n",
      "Epoch 55 Loss: 188.39644055823757\n",
      "Epoch 56 Loss: 187.51669797505417\n",
      "Epoch 57 Loss: 198.37326073319946\n",
      "Epoch 58 Loss: 190.14627780653026\n",
      "Epoch 59 Loss: 189.31109250734931\n",
      "Epoch 60 Loss: 187.19180969342793\n",
      "Epoch 61 Loss: 180.31316689269184\n",
      "Epoch 62 Loss: 193.19250469991604\n",
      "Epoch 63 Loss: 215.26930200237118\n",
      "Epoch 64 Loss: 192.9730980494251\n",
      "Epoch 65 Loss: 189.37126807643943\n",
      "Epoch 66 Loss: 196.58073945241432\n",
      "Epoch 67 Loss: 187.88168457762836\n",
      "Epoch 68 Loss: 243.60630308438652\n",
      "Epoch 69 Loss: 250.27859609420986\n",
      "Epoch 70 Loss: 229.08623214617168\n",
      "Epoch 71 Loss: 213.09466267938484\n",
      "Epoch 72 Loss: 192.64484165139393\n",
      "Epoch 73 Loss: 185.68010992546604\n",
      "Epoch 74 Loss: 214.4627792149374\n",
      "Epoch 75 Loss: 190.44854158897923\n",
      "Epoch 76 Loss: 214.2748400544467\n",
      "Epoch 77 Loss: 213.35583535285846\n",
      "Epoch 78 Loss: 200.4384164940821\n",
      "Epoch 79 Loss: 204.5246693598081\n",
      "Epoch 80 Loss: 284.91953881146156\n",
      "Epoch 81 Loss: 742.387043600213\n",
      "Epoch 82 Loss: 249.3978664189169\n",
      "Epoch 83 Loss: 209.27260098392017\n",
      "Epoch 84 Loss: 215.21439202191078\n",
      "Epoch 85 Loss: 227.43050475969707\n",
      "Epoch 86 Loss: 234.5098680208807\n",
      "Epoch 87 Loss: 199.0960129254485\n",
      "Epoch 88 Loss: 180.6892523308323\n",
      "Epoch 89 Loss: 183.8174079738251\n",
      "Epoch 90 Loss: 233.5747091345591\n",
      "Epoch 91 Loss: 196.55259341409763\n",
      "Epoch 92 Loss: 256.5066707558828\n",
      "Epoch 93 Loss: 197.22059944884418\n",
      "Epoch 94 Loss: 214.22309922518795\n",
      "Epoch 95 Loss: 193.1387604752632\n",
      "Epoch 96 Loss: 201.22216762908516\n",
      "Epoch 97 Loss: 195.0305721335215\n",
      "Epoch 98 Loss: 180.25931891349896\n",
      "Epoch 99 Loss: 172.21866944718033\n"
     ]
    }
   ],
   "source": [
    "model.train()\n",
    "train_loss = []\n",
    "\n",
    "for epoch in range(epochs):\n",
    "        batch_losses = []\n",
    "        for batch_i, batch in enumerate(seq_dataloader):\n",
    "                # forward pass\n",
    "                x = batch[0].view(-1, x_dim).to(device)\n",
    "                rep_z, x_mu, x_logvar, x_rec = model(x)\n",
    "                loss = ELBO(x, x_rec,x_mu, x_logvar)\n",
    "                batch_losses.append(loss.data.cpu().item())\n",
    "                \n",
    "                model_optim.zero_grad()\n",
    "                loss.backward()\n",
    "                model_optim.step()\n",
    "        train_loss.append(sum(batch_losses)/len(batch_losses))\n",
    "        print(f\"Epoch {epoch} Loss: {train_loss[-1]}\")"
   ]
  },
  {
   "cell_type": "code",
   "execution_count": 115,
   "metadata": {},
   "outputs": [],
   "source": [
    "labels = []\n",
    "latent_coord = []\n",
    "model.eval()\n",
    "for batch_i, batch in enumerate(seq_dataloader):\n",
    "    # labels.append(batch[1].to('cpu').numpy())\n",
    "    # x = batch[0].view(-1, x_dim).to(device)\n",
    "    rep_z, x_mu, x_logvar, x_rec = model(batch)\n",
    "    latent_coord.append(x_mu.to('cpu').detach().numpy())\n",
    "# labels = np.concatenate(labels)\n",
    "latent_coord = np.concatenate(latent_coord, axis = 0)"
   ]
  },
  {
   "cell_type": "code",
   "execution_count": null,
   "metadata": {},
   "outputs": [
    {
     "data": {
      "text/plain": [
       "(4642, 256)"
      ]
     },
     "execution_count": 117,
     "metadata": {},
     "output_type": "execute_result"
    }
   ],
   "source": [
    "latent_coord"
   ]
  },
  {
   "cell_type": "code",
   "execution_count": 119,
   "metadata": {},
   "outputs": [],
   "source": [
    "U, S, V = torch.pca_lowrank(torch.tensor(latent_coord), q=None, center=True, niter=2)"
   ]
  },
  {
   "cell_type": "code",
   "execution_count": 121,
   "metadata": {},
   "outputs": [],
   "source": [
    "projected_data = torch.matmul(torch.tensor(latent_coord), V[:, :2]) "
   ]
  },
  {
   "cell_type": "code",
   "execution_count": 127,
   "metadata": {},
   "outputs": [
    {
     "data": {
      "text/plain": [
       "<matplotlib.collections.PathCollection at 0x57186eb60>"
      ]
     },
     "execution_count": 127,
     "metadata": {},
     "output_type": "execute_result"
    },
    {
     "data": {
      "image/png": "[encoded data removed]",
      "text/plain": [
       "<Figure size 640x480 with 1 Axes>"
      ]
     },
     "metadata": {},
     "output_type": "display_data"
    }
   ],
   "source": [
    "import matplotlib.pyplot as plt\n",
    "plt.scatter(projected_data.numpy()[:, 0], projected_data.numpy()[:, 1], s = 2, color = 'b')"
   ]
  },
  {
   "cell_type": "code",
   "execution_count": null,
   "metadata": {},
   "outputs": [],
   "source": []
  }
 ],
 "metadata": {
  "kernelspec": {
   "display_name": "ProteinManifoldLearning",
   "language": "python",
   "name": "python3"
  },
  "language_info": {
   "codemirror_mode": {
    "name": "ipython",
    "version": 3
   },
   "file_extension": ".py",
   "mimetype": "text/x-python",
   "name": "python",
   "nbconvert_exporter": "python",
   "pygments_lexer": "ipython3",
   "version": "3.10.16"
  }
 },
 "nbformat": 4,
 "nbformat_minor": 2
}
