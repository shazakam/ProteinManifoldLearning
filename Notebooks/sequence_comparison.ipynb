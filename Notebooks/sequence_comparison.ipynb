{
 "cells": [
  {
   "cell_type": "code",
   "execution_count": 1,
   "id": "96fbac08",
   "metadata": {},
   "outputs": [],
   "source": [
    "from sklearn.metrics import silhouette_score, davies_bouldin_score\n",
    "import torch.nn as nn\n",
    "import sys\n",
    "import os\n",
    "project_root = os.path.abspath(\"..\")  # Adjust if needed\n",
    "import pytorch_lightning as pl\n",
    "# Add the project root to sys.path\n",
    "if project_root not in sys.path:\n",
    "    sys.path.append(project_root)\n",
    "from collections import Counter\n",
    "\n",
    "from src.utils.data_utils import *\n",
    "from src.dataset_classes.pointDataset import *\n",
    "from proteinshake.datasets import ProteinFamilyDataset\n",
    "from proteinshake.tasks import LigandAffinityTask\n",
    "import random\n",
    "from src.models.graphVAE import GraphVAE\n",
    "from src.models.basicVae import LitBasicVae\n",
    "from src.models.PointNetVae_chamfer_split import PointNetVAE\n",
    "from torch.utils.data import Dataset, Subset\n",
    "from torch_geometric.utils import to_dense_batch, to_dense_adj\n",
    "import numpy as np\n",
    "from src.utils.data_utils import *\n",
    "from src.dataset_classes.graphDataset import *\n",
    "from src.dataset_classes.sequenceDataset import *\n",
    "from torch_geometric.loader import DataLoader as Pyg_DataLoader\n",
    "import matplotlib.pyplot as plt\n",
    "import pandas as pd\n",
    "from tqdm import tqdm\n",
    "\n",
    "%load_ext autoreload\n",
    "%autoreload 2"
   ]
  },
  {
   "cell_type": "code",
   "execution_count": 2,
   "id": "68fa62fb",
   "metadata": {},
   "outputs": [
    {
     "name": "stderr",
     "output_type": "stream",
     "text": [
      "100%|██████████| 31109/31109 [00:06<00:00, 4913.40it/s]\n",
      "100%|██████████| 31109/31109 [00:06<00:00, 5001.66it/s]\n"
     ]
    }
   ],
   "source": [
    "data = ProteinFamilyDataset(root='../data').to_point().torch()\n",
    "graph_data = ProteinFamilyDataset(root='../data').to_graph(eps = 8).pyg()\n",
    "seq_dataset = SequenceDataset(data, 500, return_proteins=True)\n",
    "seq_dataloader = DataLoader(seq_dataset, batch_size = 128, shuffle=False)\n",
    "\n",
    "point_dataset = PointDataset(data, 500, return_proteins = True)\n",
    "point_dataloader = DataLoader(point_dataset, batch_size = 128, shuffle=False)\n",
    "\n",
    "### NEED TO USE PYG-DATALOADER ###\n",
    "graph_dataset  = load_graph_data(graph_data, amnino_acids = 21)\n",
    "graph_dataloader = Pyg_DataLoader(graph_dataset, batch_size=128, shuffle=False)\n",
    "\n",
    "families = [k[1]['protein']['Pfam'][0] for k in seq_dataset.org_protein_data]\n",
    "\n",
    "# Count occurrences of each element\n",
    "counter = Counter(families)"
   ]
  },
  {
   "cell_type": "code",
   "execution_count": 3,
   "id": "b030ba26",
   "metadata": {},
   "outputs": [],
   "source": [
    "if torch.backends.mps.is_available():\n",
    "    device = torch.device(\"mps\")\n",
    "else:\n",
    "    device = torch.device(\"cpu\")"
   ]
  },
  {
   "cell_type": "markdown",
   "id": "04904db5",
   "metadata": {},
   "source": [
    "# Run inference"
   ]
  },
  {
   "cell_type": "code",
   "execution_count": 4,
   "id": "83648265",
   "metadata": {},
   "outputs": [
    {
     "name": "stderr",
     "output_type": "stream",
     "text": [
      "/opt/anaconda3/envs/ProteinManifoldLearning/lib/python3.10/site-packages/pytorch_lightning/core/module.py:441: You are trying to `self.log()` but the `self.trainer` reference is not registered on the model yet. This is most likely because the model hasn't been passed to the `Trainer`\n",
      "/opt/anaconda3/envs/ProteinManifoldLearning/lib/python3.10/site-packages/pytorch_lightning/utilities/migration/utils.py:56: The loaded checkpoint was produced with Lightning v2.5.1, which is newer than your current Lightning version: v2.5.0.post0\n"
     ]
    },
    {
     "data": {
      "text/plain": [
       "GraphVAE(\n",
       "  (conv1): GCNConv(21, 16)\n",
       "  (conv2): GCNConv(16, 32)\n",
       "  (fc_mu): Linear(in_features=16000, out_features=32, bias=True)\n",
       "  (fc_logvar): Linear(in_features=16000, out_features=32, bias=True)\n",
       "  (fc1_dec): Linear(in_features=32, out_features=512, bias=True)\n",
       "  (fc2_dec_feature): Linear(in_features=512, out_features=10500, bias=True)\n",
       "  (fc_adj_dec): Linear(in_features=32, out_features=16000, bias=True)\n",
       "  (tanh): Tanh()\n",
       "  (sigmoid): Sigmoid()\n",
       "  (soft): Softmax(dim=-1)\n",
       ")"
      ]
     },
     "execution_count": 4,
     "metadata": {},
     "output_type": "execute_result"
    }
   ],
   "source": [
    "seq_checkpoint_path = '../trained_models/Pfam/BVAE/BETA_EXP/0_LD16_HD512_Beta0.001_BetaInc0.ckpt' #'../trained_models/Pfam/BVAE/FINAL_MODEL/LD16_HD512_Beta0.005_BetaInc0.ckpt'\n",
    "point_checkpoint_path = '../trained_models/Pfam/BETA_point_vae/Pfam_BETA_EXP/0_LD64_GF512_Beta0.001_HD512.ckpt' #\"../trained_models/Pfam/PVAE/FINAL_MODEL/FINAL_PVAE_LD64_GF512_BetaInc0_Beta0.005_HD512_CH8.ckpt\"\n",
    "graph_checkpoint_path = '../trained_models/Pfam/GVAE/BETA_EXP/0_LD32_HD512_Beta0.001_GCH16_LR0.0001.ckpt'#'../trained_models/Pfam/GVAE/2_LD32_HD512_Beta0.005_GCH96_LR0.0001.ckpt'\n",
    "\n",
    "seq_model = LitBasicVae.load_from_checkpoint(seq_checkpoint_path)\n",
    "point_model = PointNetVAE.load_from_checkpoint(point_checkpoint_path)\n",
    "graph_model = GraphVAE.load_from_checkpoint(graph_checkpoint_path)\n",
    "\n",
    "# Put model in evaluation mode\n",
    "seq_model.eval()\n",
    "point_model.eval()\n",
    "graph_model.eval()\n",
    "graph_model.to(device)"
   ]
  },
  {
   "cell_type": "code",
   "execution_count": null,
   "id": "d4c72d83",
   "metadata": {},
   "outputs": [
    {
     "name": "stderr",
     "output_type": "stream",
     "text": [
      "100%|██████████| 225/225 [00:04<00:00, 45.73it/s]\n",
      "100%|██████████| 225/225 [00:06<00:00, 34.25it/s]\n",
      "100%|██████████| 225/225 [00:34<00:00,  6.55it/s]\n"
     ]
    }
   ],
   "source": [
    "from tqdm import tqdm\n",
    "original_seq_data = []\n",
    "seq_res = [[],[],[]]\n",
    "point_res = [[],[],[]]\n",
    "graph_res = [[],[],[]]\n",
    "sigma_coeff = [0, 0.5, 1]\n",
    "# Run inference / decoding across different latent representations\n",
    "for batch in tqdm(seq_dataloader):\n",
    "    original_seq_data.append(batch)\n",
    "    rep_z, x_mu, x_logvar, x_rec, logit = seq_model(batch.to(device))\n",
    "    for i in sigma_coeff:\n",
    "        cur_list = seq_res[i]\n",
    "        latent_input = x_mu + i*torch.sqrt(torch.exp(x_logvar))\n",
    "        decoded, _ = seq_model.decode(latent_input)\n",
    "        cur_list.append(decoded.detach().cpu())\n",
    "        seq_res[i] = cur_list\n",
    "\n",
    "for batch in tqdm(point_dataloader):\n",
    "    rep_z, x_mu, x_logvar, x_rec, logit = point_model(batch.to(device))\n",
    "    for i in sigma_coeff:\n",
    "        cur_list = point_res[i]\n",
    "        latent_input = x_mu + i*torch.sqrt(torch.exp(x_logvar))\n",
    "        decoded, _ = point_model.decode(latent_input)\n",
    "        decoded = decoded[:,:, 3:]\n",
    "        cur_list.append(decoded.detach().cpu())\n",
    "        point_res[i] = cur_list\n",
    "\n",
    "for batch in tqdm(graph_dataloader):\n",
    "    rep_z, x_mu, x_logvar, x_rec, logit_feature, adj_matrix  = graph_model(batch.to(device))\n",
    "    for i in sigma_coeff:\n",
    "        cur_list = graph_res[i]\n",
    "        latent_input = x_mu + i*torch.sqrt(torch.exp(x_logvar))\n",
    "        decoded, _, _ = graph_model.decode(latent_input)\n",
    "        cur_list.append(decoded.detach().cpu())\n",
    "        graph_res[i] = cur_list\n",
    "\n",
    "original_seq_data = torch.vstack(original_seq_data).argmax(dim=-1)"
   ]
  },
  {
   "cell_type": "code",
   "execution_count": 56,
   "id": "20f277b4",
   "metadata": {},
   "outputs": [],
   "source": [
    "# Concatenate and do argmax to get predicted indices\n",
    "for i in range(3):\n",
    "    cur_seq = seq_res[i]\n",
    "    cur_point = point_res[i]\n",
    "    cur_graph = graph_res[i]\n",
    "\n",
    "    seq_res[i] = torch.vstack(cur_seq).argmax(dim = -1)\n",
    "    point_res[i] = torch.vstack(cur_point).argmax(dim = -1)\n",
    "    graph_res[i] = torch.vstack(cur_graph).argmax(dim = -1)"
   ]
  },
  {
   "cell_type": "code",
   "execution_count": 57,
   "id": "698c22be",
   "metadata": {},
   "outputs": [],
   "source": [
    "# Convert to strings to BiPython\n",
    "def convert_tensor_to_string(tens):\n",
    "    amino_encoding_dict = {0: 'A',1: 'R',2: 'N',3: 'D',\n",
    "                       4: 'C',5: 'E',6: 'Q',7: 'G',\n",
    "                       8: 'H',9: 'I',10: 'L',11: 'K',\n",
    "                       12: 'M',13: 'F',14: 'P',15: 'S',\n",
    "                       16: 'T',17: 'W',18: 'Y', 19: 'V', 20: 'X'}\n",
    "    \n",
    "    out = []\n",
    "    for sample in list(tens):\n",
    "        string_sample = []\n",
    "        for amino in list(sample):\n",
    "            string_sample.append(amino_encoding_dict[amino.item()])\n",
    "        out.append(''.join(string_sample))\n",
    "    return out\n",
    "        \n",
    "\n",
    "\n",
    "amino_encoding_dict = {'A': 0,'R': 1,'N': 2,'D': 3,'C': 4,'E': 5,\n",
    "                        'Q': 6,'G': 7,'H': 8,'I': 9,'L': 10,'K': 11,\n",
    "                        'M': 12,'F': 13,'P': 14,'S': 15,'T': 16,\n",
    "                        'W': 17,'Y': 18,'V': 19, 'X':20}\n",
    "\n",
    "seq_string_res = [[],[],[]]\n",
    "point_string_res = [[],[],[]]\n",
    "graph_string_res = [[],[],[]]\n",
    "\n",
    "for i in range(3):\n",
    "    idx_string_res = convert_tensor_to_string(seq_res[i])\n",
    "    seq_string_res[i] = idx_string_res\n",
    "\n",
    "    idx_point_res = convert_tensor_to_string(point_res[i])\n",
    "    point_string_res[i] = idx_point_res\n",
    "\n",
    "    idx_graph_res = convert_tensor_to_string(graph_res[i])\n",
    "    graph_string_res[i] = idx_graph_res\n",
    "\n",
    "original_string_seq_data = convert_tensor_to_string(original_seq_data)"
   ]
  },
  {
   "cell_type": "code",
   "execution_count": null,
   "id": "6434169b",
   "metadata": {},
   "outputs": [],
   "source": [
    "from Bio import Align\n",
    "from Bio.Align import substitution_matrices\n",
    "matrix = substitution_matrices.load(\"BLOSUM62\")\n",
    "seq_comparison_results = [[],[],[]]\n",
    "point_comparison_results = [[],[],[]]\n",
    "graph_comparison_results = [[],[],[]]\n",
    "\n",
    "aligner = Align.PairwiseAligner()\n",
    "aligner.mode = 'local'\n",
    "aligner.substitution_matrix = matrix\n",
    "aligner.match_score = 1.0\n",
    "aligner.mismatch_score = -2.0\n",
    "aligner.gap_score = -2.5\n",
    "\n",
    "# Compare original sequences to reconstructed, latent 1 and latent 2 using BioPython Library \n",
    "for i in range(3):\n",
    "    total_seq_comp = []\n",
    "    total_point_comp = []\n",
    "    total_graph_comp = []\n",
    "\n",
    "    for idx in range(len(original_string_seq_data)):\n",
    "        og_end_idx = torch.where(original_seq_data[idx] == 20)[0].item()\n",
    "        og_string = original_string_seq_data[idx][:og_end_idx]\n",
    "\n",
    "        seq_end_idx = torch.where(seq_res[i][idx] == 20)[0][0].item()\n",
    "\n",
    "        # If no end token is generated i.e 20 is not present then take the entire string\n",
    "        try:\n",
    "            point_end_idx = torch.where(point_res[i][idx] == 20)[0][0].item()\n",
    "        except:\n",
    "            point_end_idx = 499\n",
    "\n",
    "        try:\n",
    "            graph_end_idx = torch.where(graph_res[i][idx] == 20)[0][0].item()\n",
    "        except:\n",
    "            graph_end_idx = 499\n",
    "            \n",
    "        seq_string = seq_string_res[i][idx][:seq_end_idx]\n",
    "        point_string = point_string_res[i][idx][:point_end_idx]\n",
    "        graph_string = graph_string_res[i][idx][:graph_end_idx]\n",
    "        seq_align_score = aligner.score(og_string, seq_string)\n",
    "        point_align_score = aligner.score(og_string, point_string)\n",
    "        graph_align_score = aligner.score(og_string, graph_string)\n",
    "\n",
    "        total_seq_comp.append(seq_align_score)\n",
    "        total_point_comp.append(point_align_score)\n",
    "        total_graph_comp.append(graph_align_score)\n",
    "    \n",
    "    seq_comparison_results[i] = total_seq_comp\n",
    "    point_comparison_results[i] = total_point_comp\n",
    "    graph_comparison_results[i] = total_graph_comp"
   ]
  },
  {
   "cell_type": "code",
   "execution_count": 65,
   "id": "b53dfd4d",
   "metadata": {},
   "outputs": [],
   "source": [
    "seq_averages = [0]*3\n",
    "point_averages = [0]*3\n",
    "graph_averages = [0]*3\n",
    "\n",
    "for i in range(3):\n",
    "    seq_averages[i] = sum(seq_comparison_results[i]) / len(seq_comparison_results[i])\n",
    "    point_averages[i] = sum(point_comparison_results[i]) / len(point_comparison_results[i])\n",
    "    graph_averages[i] = sum(graph_comparison_results[i]) / len(graph_comparison_results[i])"
   ]
  },
  {
   "cell_type": "code",
   "execution_count": 73,
   "id": "da6becf4",
   "metadata": {},
   "outputs": [
    {
     "data": {
      "image/png": "[encoded data removed]",
      "text/plain": [
       "<Figure size 2000x1200 with 1 Axes>"
      ]
     },
     "metadata": {},
     "output_type": "display_data"
    }
   ],
   "source": [
    "import matplotlib.pyplot as plt\n",
    "import seaborn as sns\n",
    "import numpy as np\n",
    "\n",
    "# Generate random data (e.g., 1000 points from a normal distribution)\n",
    "data = seq_comparison_results\n",
    "\n",
    "# Set up the figure and axes\n",
    "plt.figure(figsize=(10, 6), dpi = 200)\n",
    "\n",
    "# Plot histogram using seaborn (with KDE)\n",
    "sns.kdeplot(seq_comparison_results[0],color='b', linewidth=1)\n",
    "sns.kdeplot(seq_comparison_results[1],color='r',  linewidth=1)\n",
    "sns.kdeplot(seq_comparison_results[2], color='g',  linewidth=1)\n",
    "\n",
    "sns.kdeplot(point_comparison_results[0],color='b', linewidth=1)\n",
    "sns.kdeplot(point_comparison_results[1],color='r',  linewidth=1)\n",
    "sns.kdeplot(point_comparison_results[2], color='g',  linewidth=1)\n",
    "\n",
    "sns.kdeplot(graph_comparison_results[0],color='b', linewidth=1)\n",
    "sns.kdeplot(graph_comparison_results[1],color='r',  linewidth=1)\n",
    "sns.kdeplot(graph_comparison_results[2], color='g',  linewidth=1)\n",
    "\n",
    "# Add titles and labels\n",
    "plt.title('Histogram with Distribution Plot')\n",
    "# plt.xlim(-10,20)\n",
    "plt.xlabel('Value')\n",
    "plt.ylabel('Density')\n",
    "\n",
    "# Show the plot\n",
    "plt.show()\n"
   ]
  },
  {
   "cell_type": "code",
   "execution_count": 74,
   "id": "0013f756",
   "metadata": {},
   "outputs": [
    {
     "name": "stdout",
     "output_type": "stream",
     "text": [
      "0 : 4.0\n",
      "0 : 4.0\n",
      "0 : 4.0\n",
      "1 : 3.0\n",
      "1 : 3.0\n",
      "1 : 4.0\n",
      "2 : 2.0\n",
      "2 : 3.0\n",
      "2 : 4.0\n"
     ]
    }
   ],
   "source": [
    "import statistics\n",
    "\n",
    "for i in range(3):\n",
    "    print(f'{i} : {statistics.median(seq_comparison_results[i])}')\n",
    "    print(f'{i} : {statistics.median(point_comparison_results[i])}')\n",
    "    print(f'{i} : {statistics.median(graph_comparison_results[i])}')"
   ]
  }
 ],
 "metadata": {
  "kernelspec": {
   "display_name": "ProteinManifoldLearning",
   "language": "python",
   "name": "python3"
  },
  "language_info": {
   "codemirror_mode": {
    "name": "ipython",
    "version": 3
   },
   "file_extension": ".py",
   "mimetype": "text/x-python",
   "name": "python",
   "nbconvert_exporter": "python",
   "pygments_lexer": "ipython3",
   "version": "3.10.16"
  }
 },
 "nbformat": 4,
 "nbformat_minor": 5
}
