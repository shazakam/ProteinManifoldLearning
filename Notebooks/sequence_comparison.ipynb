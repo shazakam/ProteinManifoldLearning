{
 "cells": [
  {
   "cell_type": "code",
   "execution_count": 1,
   "id": "96fbac08",
   "metadata": {},
   "outputs": [],
   "source": [
    "from sklearn.metrics import silhouette_score, davies_bouldin_score\n",
    "import torch.nn as nn\n",
    "import sys\n",
    "import os\n",
    "project_root = os.path.abspath(\"..\")  # Adjust if needed\n",
    "import pytorch_lightning as pl\n",
    "# Add the project root to sys.path\n",
    "if project_root not in sys.path:\n",
    "    sys.path.append(project_root)\n",
    "from collections import Counter\n",
    "\n",
    "from src.utils.data_utils import *\n",
    "from src.dataset_classes.pointDataset import *\n",
    "from proteinshake.datasets import ProteinFamilyDataset\n",
    "from proteinshake.tasks import LigandAffinityTask\n",
    "import random\n",
    "from src.models.graphVAE import GraphVAE\n",
    "from src.models.basicVae import LitBasicVae\n",
    "from src.models.PointNetVae_chamfer_split import PointNetVAE\n",
    "from torch.utils.data import Dataset, Subset\n",
    "from torch_geometric.utils import to_dense_batch, to_dense_adj\n",
    "import numpy as np\n",
    "from src.utils.data_utils import *\n",
    "from src.dataset_classes.graphDataset import *\n",
    "from src.dataset_classes.sequenceDataset import *\n",
    "from torch_geometric.loader import DataLoader as Pyg_DataLoader\n",
    "import matplotlib.pyplot as plt\n",
    "import pandas as pd\n",
    "from tqdm import tqdm\n",
    "\n",
    "%load_ext autoreload\n",
    "%autoreload 2"
   ]
  },
  {
   "cell_type": "code",
   "execution_count": null,
   "id": "68fa62fb",
   "metadata": {},
   "outputs": [
    {
     "name": "stderr",
     "output_type": "stream",
     "text": [
      "100%|██████████| 31109/31109 [00:06<00:00, 4660.26it/s]\n",
      "100%|██████████| 31109/31109 [00:07<00:00, 3975.23it/s]\n"
     ]
    }
   ],
   "source": [
    "data = ProteinFamilyDataset(root='../data').to_point().torch()\n",
    "graph_data = ProteinFamilyDataset(root='../data').to_graph(eps = 8).pyg()\n",
    "seq_dataset = SequenceDataset(data, 500, return_proteins=True)\n",
    "seq_dataloader = DataLoader(seq_dataset, batch_size = 128, shuffle=False)\n",
    "\n",
    "point_dataset = PointDataset(data, 500, return_proteins = True)\n",
    "point_dataloader = DataLoader(point_dataset, batch_size = 128, shuffle=False)\n",
    "\n",
    "### NEED TO USE PYG-DATALOADER ###\n",
    "graph_dataset  = load_graph_data(graph_data, amnino_acids = 21)\n",
    "graph_dataloader = Pyg_DataLoader(graph_dataset, batch_size=128, shuffle=False)\n",
    "\n",
    "families = [k[1]['protein']['Pfam'][0] for k in seq_dataset.org_protein_data]\n",
    "\n",
    "# Count occurrences of each element\n",
    "counter = Counter(families)"
   ]
  },
  {
   "cell_type": "code",
   "execution_count": 6,
   "id": "b030ba26",
   "metadata": {},
   "outputs": [],
   "source": [
    "if torch.backends.mps.is_available():\n",
    "    device = torch.device(\"mps\")\n",
    "else:\n",
    "    device = torch.device(\"cpu\")"
   ]
  },
  {
   "cell_type": "markdown",
   "id": "04904db5",
   "metadata": {},
   "source": [
    "# Run inference"
   ]
  },
  {
   "cell_type": "code",
   "execution_count": 7,
   "id": "83648265",
   "metadata": {},
   "outputs": [
    {
     "data": {
      "text/plain": [
       "GraphVAE(\n",
       "  (conv1): GCNConv(21, 16)\n",
       "  (conv2): GCNConv(16, 32)\n",
       "  (fc_mu): Linear(in_features=16000, out_features=32, bias=True)\n",
       "  (fc_logvar): Linear(in_features=16000, out_features=32, bias=True)\n",
       "  (fc1_dec): Linear(in_features=32, out_features=512, bias=True)\n",
       "  (fc2_dec_feature): Linear(in_features=512, out_features=10500, bias=True)\n",
       "  (fc_adj_dec): Linear(in_features=32, out_features=16000, bias=True)\n",
       "  (tanh): Tanh()\n",
       "  (sigmoid): Sigmoid()\n",
       "  (soft): Softmax(dim=-1)\n",
       ")"
      ]
     },
     "execution_count": 7,
     "metadata": {},
     "output_type": "execute_result"
    }
   ],
   "source": [
    "seq_checkpoint_path = '../trained_models/Pfam/BVAE/BETA_EXP/0_LD16_HD512_Beta0.001_BetaInc0.ckpt' #'../trained_models/Pfam/BVAE/FINAL_MODEL/LD16_HD512_Beta0.005_BetaInc0.ckpt'\n",
    "point_checkpoint_path = '../trained_models/Pfam/BETA_point_vae/Pfam_BETA_EXP/0_LD64_GF512_Beta0.001_HD512.ckpt' #\"../trained_models/Pfam/PVAE/FINAL_MODEL/FINAL_PVAE_LD64_GF512_BetaInc0_Beta0.005_HD512_CH8.ckpt\"\n",
    "graph_checkpoint_path = '../trained_models/Pfam/GVAE/BETA_EXP/0_LD32_HD512_Beta0.001_GCH16_LR0.0001.ckpt'#'../trained_models/Pfam/GVAE/2_LD32_HD512_Beta0.005_GCH96_LR0.0001.ckpt'\n",
    "\n",
    "seq_model = LitBasicVae.load_from_checkpoint(seq_checkpoint_path)\n",
    "point_model = PointNetVAE.load_from_checkpoint(point_checkpoint_path)\n",
    "graph_model = GraphVAE.load_from_checkpoint(graph_checkpoint_path)\n",
    "\n",
    "# Put model in evaluation mode\n",
    "seq_model.eval()\n",
    "point_model.eval()\n",
    "graph_model.eval()\n",
    "graph_model.to(device)"
   ]
  },
  {
   "cell_type": "code",
   "execution_count": null,
   "id": "d4c72d83",
   "metadata": {},
   "outputs": [
    {
     "name": "stderr",
     "output_type": "stream",
     "text": [
      "100%|██████████| 225/225 [00:03<00:00, 65.04it/s]\n",
      "100%|██████████| 225/225 [00:02<00:00, 91.30it/s] \n",
      "100%|██████████| 225/225 [00:47<00:00,  4.74it/s]\n"
     ]
    }
   ],
   "source": [
    "from tqdm import tqdm\n",
    "original_seq_data = []\n",
    "seq_res_mu0 = []\n",
    "seq_res_mu1 = []\n",
    "seq_res_mu2 = []\n",
    "\n",
    "for batch in tqdm(seq_dataloader):\n",
    "    original_seq_data.append(batch)\n",
    "    rep_z, x_mu, x_logvar, x_rec, logit = seq_model(batch.to(device))\n",
    "    seq_res_mu0.append(x_rec.detach().cpu().numpy())\n",
    "\n",
    "seq_latent_res = np.concatenate(seq_res_mu0, axis = 0)\n",
    "\n",
    "point_seq_res = []\n",
    "for batch in tqdm(point_dataloader):\n",
    "    rep_z, x_mu, x_logvar, x_rec, logit = point_model(batch.to(device))\n",
    "    point_seq_res.append(x_rec.detach().cpu().numpy())\n",
    "\n",
    "point_seq_res = np.concatenate(point_seq_res, axis = 0)\n",
    "\n",
    "graph_seq_res = []\n",
    "for batch in tqdm(graph_dataloader):\n",
    "    rep_z, x_mu, x_logvar, x_rec, logit_feature, adj_matrix  = graph_model(batch.to(device))\n",
    "    graph_seq_res.append(x_rec.detach().cpu().numpy())\n",
    "graph_seq_res = np.concatenate(graph_seq_res, axis = 0)"
   ]
  },
  {
   "cell_type": "code",
   "execution_count": null,
   "id": "36083de6",
   "metadata": {},
   "outputs": [],
   "source": [
    "\n",
    "\n",
    "seq_res = torch.argmax(torch.tensor(seq_latent_res), dim=-1)\n",
    "point_seq_res = torch.argmax(torch.tensor(point_seq_res), dim=-1)\n",
    "graph_seq_res = torch.argmax(torch.tensor(graph_seq_res), dim=-1)"
   ]
  },
  {
   "cell_type": "code",
   "execution_count": 34,
   "id": "c3481fe0",
   "metadata": {},
   "outputs": [
    {
     "data": {
      "text/plain": [
       "torch.Size([28733, 500, 21])"
      ]
     },
     "execution_count": 34,
     "metadata": {},
     "output_type": "execute_result"
    }
   ],
   "source": [
    "torch.vstack(original_seq_data).shape"
   ]
  },
  {
   "cell_type": "code",
   "execution_count": null,
   "id": "afcd8668",
   "metadata": {},
   "outputs": [],
   "source": []
  }
 ],
 "metadata": {
  "kernelspec": {
   "display_name": "ProteinManifoldLearning",
   "language": "python",
   "name": "python3"
  },
  "language_info": {
   "codemirror_mode": {
    "name": "ipython",
    "version": 3
   },
   "file_extension": ".py",
   "mimetype": "text/x-python",
   "name": "python",
   "nbconvert_exporter": "python",
   "pygments_lexer": "ipython3",
   "version": "3.10.16"
  }
 },
 "nbformat": 4,
 "nbformat_minor": 5
}
