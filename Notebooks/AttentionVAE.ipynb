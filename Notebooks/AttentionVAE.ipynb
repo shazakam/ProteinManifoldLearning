{
 "cells": [
  {
   "cell_type": "code",
   "execution_count": 1,
   "metadata": {},
   "outputs": [],
   "source": [
    "import torch\n",
    "import torch.nn as nn \n",
    "import os \n",
    "import sys\n",
    "project_root = os.path.abspath(\"..\")  # Adjust if needed\n",
    "\n",
    "# Add the project root to sys.path\n",
    "if project_root not in sys.path:\n",
    "    sys.path.append(project_root)\n",
    "\n",
    "from src.models.attentionVae import *\n",
    "from proteinshake.datasets import ProteinLigandInterfaceDataset, AlphaFoldDataset, GeneOntologyDataset\n",
    "from src.utils import data_utils as dtu\n",
    "from src.dataset_classes.sequenceDataset import SequenceDataset\n",
    "from torch.utils.data import DataLoader, Dataset, Subset\n",
    "from src.utils.data_utils import *\n",
    "\n",
    "%load_ext autoreload\n",
    "%autoreload 2\n"
   ]
  },
  {
   "cell_type": "code",
   "execution_count": 2,
   "metadata": {},
   "outputs": [],
   "source": [
    "dataset = GeneOntologyDataset(root='../data').to_point().torch()"
   ]
  },
  {
   "cell_type": "code",
   "execution_count": 91,
   "metadata": {},
   "outputs": [
    {
     "name": "stderr",
     "output_type": "stream",
     "text": [
      "100%|██████████| 32633/32633 [00:17<00:00, 1873.01it/s]\n"
     ]
    }
   ],
   "source": [
    "max_seq_length = 500\n",
    "seq_dataset = SequenceDataset(dataset, max_seq_length, transformer_input=True)\n",
    "seq_dataloader = DataLoader(seq_dataset, batch_size = 128, shuffle = False)"
   ]
  },
  {
   "cell_type": "code",
   "execution_count": 92,
   "metadata": {},
   "outputs": [],
   "source": [
    "# Positional Encoding Sanity check\n",
    "pos_enc = PositionalEncoding(embed_dim = 20, dropout= 0.1)\n",
    "\n",
    "# Attention Encoder Block Sanity check\n",
    "att_enc = AttentionEncoderBlock(embed_dim = 20, num_heads = 5,dropout = 0.1, hidden_dim = 128)"
   ]
  },
  {
   "cell_type": "code",
   "execution_count": 93,
   "metadata": {},
   "outputs": [
    {
     "data": {
      "text/plain": [
       "tensor([0.0000, 1.1111, 0.0000, 1.1111, 0.0000, 1.1111, 0.0000, 0.0000, 0.0000,\n",
       "        1.1111, 0.0000, 1.1111, 0.0000, 0.0000, 0.0000, 1.1111, 0.0000, 1.1111,\n",
       "        1.1111, 1.1111])"
      ]
     },
     "execution_count": 93,
     "metadata": {},
     "output_type": "execute_result"
    }
   ],
   "source": [
    "test_batch_out = pos_enc(next(iter(seq_dataloader)))\n",
    "test_batch_out[0,0,:]"
   ]
  },
  {
   "cell_type": "code",
   "execution_count": 94,
   "metadata": {},
   "outputs": [],
   "source": [
    "x = next(iter(seq_dataloader))\n",
    "padding_mask = (x.sum(dim=-1) == 0).bool()  # Sum along the embedding dimension, if sum is 0, it's padding\n",
    "# Convert padding mask to shape (B, 1, N) to match the attention's expected format\n",
    "padding_mask = padding_mask\n",
    "test_batch_out_att_enc, attn_w = att_enc.attention(x,x,x, key_padding_mask = padding_mask)"
   ]
  },
  {
   "cell_type": "code",
   "execution_count": 99,
   "metadata": {},
   "outputs": [],
   "source": [
    "class Block(nn.Module):\n",
    "    def __init__(self, in_channels, out_channels, stride=1):\n",
    "        \"\"\"\n",
    "        Args:\n",
    "          in_channels (int):  Number of input channels.\n",
    "          out_channels (int): Number of output channels.\n",
    "          stride (int):       Controls the stride.\n",
    "\n",
    "          from:\n",
    "          https://stackoverflow.com/questions/60817390/implementing-a-simple-resnet-block-with-pytorch\n",
    "        \"\"\"\n",
    "        super(Block, self).__init__()\n",
    "\n",
    "        self.skip = nn.Sequential()\n",
    "\n",
    "        if stride != 1 or in_channels != out_channels:\n",
    "          self.skip = nn.Sequential(\n",
    "            nn.Conv1d(in_channels=in_channels, out_channels=out_channels, kernel_size=1, stride=stride, bias=False),\n",
    "            nn.BatchNorm1d(out_channels))\n",
    "        else:\n",
    "          self.skip = None\n",
    "\n",
    "        self.block = nn.Sequential(\n",
    "            nn.Conv1d(in_channels=in_channels, out_channels=out_channels, kernel_size=3, padding=1, stride=1, bias=False),\n",
    "            nn.BatchNorm1d(out_channels),\n",
    "            nn.ReLU(),\n",
    "            nn.Conv1d(in_channels=out_channels, out_channels=out_channels, kernel_size=3, padding=1, stride=1, bias=False),\n",
    "            nn.BatchNorm1d(out_channels))\n",
    "        \n",
    "    def forward(self, x):\n",
    "\n",
    "      identity = x\n",
    "\n",
    "      out = self.block(x)\n",
    "\n",
    "      if self.skip is not None:\n",
    "          identity = self.skip(x)\n",
    "\n",
    "      out += identity\n",
    "      out = torch.nn.functional.relu(out)\n",
    "\n",
    "      return out\n"
   ]
  },
  {
   "cell_type": "code",
   "execution_count": 102,
   "metadata": {},
   "outputs": [
    {
     "data": {
      "text/plain": [
       "torch.Size([128, 500, 20])"
      ]
     },
     "execution_count": 102,
     "metadata": {},
     "output_type": "execute_result"
    }
   ],
   "source": [
    "test_batch_out_att_enc.shape"
   ]
  },
  {
   "cell_type": "code",
   "execution_count": null,
   "metadata": {},
   "outputs": [
    {
     "data": {
      "text/plain": [
       "torch.Size([128, 500, 20])"
      ]
     },
     "execution_count": 95,
     "metadata": {},
     "output_type": "execute_result"
    }
   ],
   "source": [
    "dec_layers = [nn.Linear(self.latent_dim, self.seq_len*(self.hidden_dim//2)),\n",
    "                     Block(self.hidden_dim//2, self.hidden_dim),\n",
    "                     nn.Conv1d(self.hidden_dim, self.input_dim, kernel_size=3, padding=1)]\n",
    "        self.dec_conv_module = nn.ModuleList(dec_layers)"
   ]
  },
  {
   "cell_type": "code",
   "execution_count": 96,
   "metadata": {},
   "outputs": [
    {
     "data": {
      "text/plain": [
       "torch.Size([128, 500, 20])"
      ]
     },
     "execution_count": 96,
     "metadata": {},
     "output_type": "execute_result"
    }
   ],
   "source": [
    "x.shape"
   ]
  },
  {
   "cell_type": "code",
   "execution_count": null,
   "metadata": {},
   "outputs": [],
   "source": []
  }
 ],
 "metadata": {
  "kernelspec": {
   "display_name": "ProteinManifoldLearning",
   "language": "python",
   "name": "python3"
  },
  "language_info": {
   "codemirror_mode": {
    "name": "ipython",
    "version": 3
   },
   "file_extension": ".py",
   "mimetype": "text/x-python",
   "name": "python",
   "nbconvert_exporter": "python",
   "pygments_lexer": "ipython3",
   "version": "3.10.16"
  }
 },
 "nbformat": 4,
 "nbformat_minor": 2
}
